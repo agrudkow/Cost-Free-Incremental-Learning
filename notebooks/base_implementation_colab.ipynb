{
  "nbformat": 4,
  "nbformat_minor": 0,
  "metadata": {
    "colab": {
      "name": "cfil_colab.ipynb",
      "provenance": [],
      "collapsed_sections": [],
      "include_colab_link": true
    },
    "kernelspec": {
      "name": "python3",
      "display_name": "Python 3"
    },
    "language_info": {
      "name": "python"
    },
    "accelerator": "GPU",
    "widgets": {
      "application/vnd.jupyter.widget-state+json": {
        "5643dbefbc564a11869baca879b23d0b": {
          "model_module": "@jupyter-widgets/controls",
          "model_name": "HBoxModel",
          "model_module_version": "1.5.0",
          "state": {
            "_dom_classes": [],
            "_model_module": "@jupyter-widgets/controls",
            "_model_module_version": "1.5.0",
            "_model_name": "HBoxModel",
            "_view_count": null,
            "_view_module": "@jupyter-widgets/controls",
            "_view_module_version": "1.5.0",
            "_view_name": "HBoxView",
            "box_style": "",
            "children": [
              "IPY_MODEL_4cb2f3de89414485aa64041b938b01d2",
              "IPY_MODEL_3e0211295fae418c9b45c082ff789044",
              "IPY_MODEL_2f3687d28c734a7c9193e1e9b5831c03"
            ],
            "layout": "IPY_MODEL_e6c0e7e2b09c473a82a7cd6a98116d51"
          }
        },
        "4cb2f3de89414485aa64041b938b01d2": {
          "model_module": "@jupyter-widgets/controls",
          "model_name": "HTMLModel",
          "model_module_version": "1.5.0",
          "state": {
            "_dom_classes": [],
            "_model_module": "@jupyter-widgets/controls",
            "_model_module_version": "1.5.0",
            "_model_name": "HTMLModel",
            "_view_count": null,
            "_view_module": "@jupyter-widgets/controls",
            "_view_module_version": "1.5.0",
            "_view_name": "HTMLView",
            "description": "",
            "description_tooltip": null,
            "layout": "IPY_MODEL_f660e6b9a734484d825dcf67ce37b604",
            "placeholder": "​",
            "style": "IPY_MODEL_c71cd7da99924843b25ec82a877a4e8e",
            "value": "100%"
          }
        },
        "3e0211295fae418c9b45c082ff789044": {
          "model_module": "@jupyter-widgets/controls",
          "model_name": "FloatProgressModel",
          "model_module_version": "1.5.0",
          "state": {
            "_dom_classes": [],
            "_model_module": "@jupyter-widgets/controls",
            "_model_module_version": "1.5.0",
            "_model_name": "FloatProgressModel",
            "_view_count": null,
            "_view_module": "@jupyter-widgets/controls",
            "_view_module_version": "1.5.0",
            "_view_name": "ProgressView",
            "bar_style": "success",
            "description": "",
            "description_tooltip": null,
            "layout": "IPY_MODEL_75251e26e6474e25b472b23122a260b3",
            "max": 46830571,
            "min": 0,
            "orientation": "horizontal",
            "style": "IPY_MODEL_15f0d9f9cd844fe88b77775354e195d0",
            "value": 46830571
          }
        },
        "2f3687d28c734a7c9193e1e9b5831c03": {
          "model_module": "@jupyter-widgets/controls",
          "model_name": "HTMLModel",
          "model_module_version": "1.5.0",
          "state": {
            "_dom_classes": [],
            "_model_module": "@jupyter-widgets/controls",
            "_model_module_version": "1.5.0",
            "_model_name": "HTMLModel",
            "_view_count": null,
            "_view_module": "@jupyter-widgets/controls",
            "_view_module_version": "1.5.0",
            "_view_name": "HTMLView",
            "description": "",
            "description_tooltip": null,
            "layout": "IPY_MODEL_26ace724404842d3bcb2ee0c4e7df8fb",
            "placeholder": "​",
            "style": "IPY_MODEL_6974f5e036c24253b197f44b6c794d69",
            "value": " 44.7M/44.7M [00:00&lt;00:00, 116MB/s]"
          }
        },
        "e6c0e7e2b09c473a82a7cd6a98116d51": {
          "model_module": "@jupyter-widgets/base",
          "model_name": "LayoutModel",
          "model_module_version": "1.2.0",
          "state": {
            "_model_module": "@jupyter-widgets/base",
            "_model_module_version": "1.2.0",
            "_model_name": "LayoutModel",
            "_view_count": null,
            "_view_module": "@jupyter-widgets/base",
            "_view_module_version": "1.2.0",
            "_view_name": "LayoutView",
            "align_content": null,
            "align_items": null,
            "align_self": null,
            "border": null,
            "bottom": null,
            "display": null,
            "flex": null,
            "flex_flow": null,
            "grid_area": null,
            "grid_auto_columns": null,
            "grid_auto_flow": null,
            "grid_auto_rows": null,
            "grid_column": null,
            "grid_gap": null,
            "grid_row": null,
            "grid_template_areas": null,
            "grid_template_columns": null,
            "grid_template_rows": null,
            "height": null,
            "justify_content": null,
            "justify_items": null,
            "left": null,
            "margin": null,
            "max_height": null,
            "max_width": null,
            "min_height": null,
            "min_width": null,
            "object_fit": null,
            "object_position": null,
            "order": null,
            "overflow": null,
            "overflow_x": null,
            "overflow_y": null,
            "padding": null,
            "right": null,
            "top": null,
            "visibility": null,
            "width": null
          }
        },
        "f660e6b9a734484d825dcf67ce37b604": {
          "model_module": "@jupyter-widgets/base",
          "model_name": "LayoutModel",
          "model_module_version": "1.2.0",
          "state": {
            "_model_module": "@jupyter-widgets/base",
            "_model_module_version": "1.2.0",
            "_model_name": "LayoutModel",
            "_view_count": null,
            "_view_module": "@jupyter-widgets/base",
            "_view_module_version": "1.2.0",
            "_view_name": "LayoutView",
            "align_content": null,
            "align_items": null,
            "align_self": null,
            "border": null,
            "bottom": null,
            "display": null,
            "flex": null,
            "flex_flow": null,
            "grid_area": null,
            "grid_auto_columns": null,
            "grid_auto_flow": null,
            "grid_auto_rows": null,
            "grid_column": null,
            "grid_gap": null,
            "grid_row": null,
            "grid_template_areas": null,
            "grid_template_columns": null,
            "grid_template_rows": null,
            "height": null,
            "justify_content": null,
            "justify_items": null,
            "left": null,
            "margin": null,
            "max_height": null,
            "max_width": null,
            "min_height": null,
            "min_width": null,
            "object_fit": null,
            "object_position": null,
            "order": null,
            "overflow": null,
            "overflow_x": null,
            "overflow_y": null,
            "padding": null,
            "right": null,
            "top": null,
            "visibility": null,
            "width": null
          }
        },
        "c71cd7da99924843b25ec82a877a4e8e": {
          "model_module": "@jupyter-widgets/controls",
          "model_name": "DescriptionStyleModel",
          "model_module_version": "1.5.0",
          "state": {
            "_model_module": "@jupyter-widgets/controls",
            "_model_module_version": "1.5.0",
            "_model_name": "DescriptionStyleModel",
            "_view_count": null,
            "_view_module": "@jupyter-widgets/base",
            "_view_module_version": "1.2.0",
            "_view_name": "StyleView",
            "description_width": ""
          }
        },
        "75251e26e6474e25b472b23122a260b3": {
          "model_module": "@jupyter-widgets/base",
          "model_name": "LayoutModel",
          "model_module_version": "1.2.0",
          "state": {
            "_model_module": "@jupyter-widgets/base",
            "_model_module_version": "1.2.0",
            "_model_name": "LayoutModel",
            "_view_count": null,
            "_view_module": "@jupyter-widgets/base",
            "_view_module_version": "1.2.0",
            "_view_name": "LayoutView",
            "align_content": null,
            "align_items": null,
            "align_self": null,
            "border": null,
            "bottom": null,
            "display": null,
            "flex": null,
            "flex_flow": null,
            "grid_area": null,
            "grid_auto_columns": null,
            "grid_auto_flow": null,
            "grid_auto_rows": null,
            "grid_column": null,
            "grid_gap": null,
            "grid_row": null,
            "grid_template_areas": null,
            "grid_template_columns": null,
            "grid_template_rows": null,
            "height": null,
            "justify_content": null,
            "justify_items": null,
            "left": null,
            "margin": null,
            "max_height": null,
            "max_width": null,
            "min_height": null,
            "min_width": null,
            "object_fit": null,
            "object_position": null,
            "order": null,
            "overflow": null,
            "overflow_x": null,
            "overflow_y": null,
            "padding": null,
            "right": null,
            "top": null,
            "visibility": null,
            "width": null
          }
        },
        "15f0d9f9cd844fe88b77775354e195d0": {
          "model_module": "@jupyter-widgets/controls",
          "model_name": "ProgressStyleModel",
          "model_module_version": "1.5.0",
          "state": {
            "_model_module": "@jupyter-widgets/controls",
            "_model_module_version": "1.5.0",
            "_model_name": "ProgressStyleModel",
            "_view_count": null,
            "_view_module": "@jupyter-widgets/base",
            "_view_module_version": "1.2.0",
            "_view_name": "StyleView",
            "bar_color": null,
            "description_width": ""
          }
        },
        "26ace724404842d3bcb2ee0c4e7df8fb": {
          "model_module": "@jupyter-widgets/base",
          "model_name": "LayoutModel",
          "model_module_version": "1.2.0",
          "state": {
            "_model_module": "@jupyter-widgets/base",
            "_model_module_version": "1.2.0",
            "_model_name": "LayoutModel",
            "_view_count": null,
            "_view_module": "@jupyter-widgets/base",
            "_view_module_version": "1.2.0",
            "_view_name": "LayoutView",
            "align_content": null,
            "align_items": null,
            "align_self": null,
            "border": null,
            "bottom": null,
            "display": null,
            "flex": null,
            "flex_flow": null,
            "grid_area": null,
            "grid_auto_columns": null,
            "grid_auto_flow": null,
            "grid_auto_rows": null,
            "grid_column": null,
            "grid_gap": null,
            "grid_row": null,
            "grid_template_areas": null,
            "grid_template_columns": null,
            "grid_template_rows": null,
            "height": null,
            "justify_content": null,
            "justify_items": null,
            "left": null,
            "margin": null,
            "max_height": null,
            "max_width": null,
            "min_height": null,
            "min_width": null,
            "object_fit": null,
            "object_position": null,
            "order": null,
            "overflow": null,
            "overflow_x": null,
            "overflow_y": null,
            "padding": null,
            "right": null,
            "top": null,
            "visibility": null,
            "width": null
          }
        },
        "6974f5e036c24253b197f44b6c794d69": {
          "model_module": "@jupyter-widgets/controls",
          "model_name": "DescriptionStyleModel",
          "model_module_version": "1.5.0",
          "state": {
            "_model_module": "@jupyter-widgets/controls",
            "_model_module_version": "1.5.0",
            "_model_name": "DescriptionStyleModel",
            "_view_count": null,
            "_view_module": "@jupyter-widgets/base",
            "_view_module_version": "1.2.0",
            "_view_name": "StyleView",
            "description_width": ""
          }
        },
        "29df89df139f4ba08fc04d2da6822c03": {
          "model_module": "@jupyter-widgets/controls",
          "model_name": "HBoxModel",
          "model_module_version": "1.5.0",
          "state": {
            "_dom_classes": [],
            "_model_module": "@jupyter-widgets/controls",
            "_model_module_version": "1.5.0",
            "_model_name": "HBoxModel",
            "_view_count": null,
            "_view_module": "@jupyter-widgets/controls",
            "_view_module_version": "1.5.0",
            "_view_name": "HBoxView",
            "box_style": "",
            "children": [
              "IPY_MODEL_53fbb9e5a1d24c1eb45f141739159c62",
              "IPY_MODEL_5822b4b1170046d5a44548e60661f022",
              "IPY_MODEL_80cb6a0593fe46c59648b7089088f8f1"
            ],
            "layout": "IPY_MODEL_4229d61101f048fa9f2e79164ba11821"
          }
        },
        "53fbb9e5a1d24c1eb45f141739159c62": {
          "model_module": "@jupyter-widgets/controls",
          "model_name": "HTMLModel",
          "model_module_version": "1.5.0",
          "state": {
            "_dom_classes": [],
            "_model_module": "@jupyter-widgets/controls",
            "_model_module_version": "1.5.0",
            "_model_name": "HTMLModel",
            "_view_count": null,
            "_view_module": "@jupyter-widgets/controls",
            "_view_module_version": "1.5.0",
            "_view_name": "HTMLView",
            "description": "",
            "description_tooltip": null,
            "layout": "IPY_MODEL_e5aec9bd9dba479eba8b7fbd6769edf3",
            "placeholder": "​",
            "style": "IPY_MODEL_e0aee1c092544477997651ef1673f21f",
            "value": ""
          }
        },
        "5822b4b1170046d5a44548e60661f022": {
          "model_module": "@jupyter-widgets/controls",
          "model_name": "FloatProgressModel",
          "model_module_version": "1.5.0",
          "state": {
            "_dom_classes": [],
            "_model_module": "@jupyter-widgets/controls",
            "_model_module_version": "1.5.0",
            "_model_name": "FloatProgressModel",
            "_view_count": null,
            "_view_module": "@jupyter-widgets/controls",
            "_view_module_version": "1.5.0",
            "_view_name": "ProgressView",
            "bar_style": "success",
            "description": "",
            "description_tooltip": null,
            "layout": "IPY_MODEL_2e3a4d103d8e49b89a9872170ebe6d15",
            "max": 170498071,
            "min": 0,
            "orientation": "horizontal",
            "style": "IPY_MODEL_facb6d1112d04fe1bf0d1c3fa1bc7b9d",
            "value": 170498071
          }
        },
        "80cb6a0593fe46c59648b7089088f8f1": {
          "model_module": "@jupyter-widgets/controls",
          "model_name": "HTMLModel",
          "model_module_version": "1.5.0",
          "state": {
            "_dom_classes": [],
            "_model_module": "@jupyter-widgets/controls",
            "_model_module_version": "1.5.0",
            "_model_name": "HTMLModel",
            "_view_count": null,
            "_view_module": "@jupyter-widgets/controls",
            "_view_module_version": "1.5.0",
            "_view_name": "HTMLView",
            "description": "",
            "description_tooltip": null,
            "layout": "IPY_MODEL_90c52bba2d6a43e0af6b73f53325cc1d",
            "placeholder": "​",
            "style": "IPY_MODEL_b54b542a48ab4d4ca09683a266d8bfa3",
            "value": " 170499072/? [00:03&lt;00:00, 57252598.13it/s]"
          }
        },
        "4229d61101f048fa9f2e79164ba11821": {
          "model_module": "@jupyter-widgets/base",
          "model_name": "LayoutModel",
          "model_module_version": "1.2.0",
          "state": {
            "_model_module": "@jupyter-widgets/base",
            "_model_module_version": "1.2.0",
            "_model_name": "LayoutModel",
            "_view_count": null,
            "_view_module": "@jupyter-widgets/base",
            "_view_module_version": "1.2.0",
            "_view_name": "LayoutView",
            "align_content": null,
            "align_items": null,
            "align_self": null,
            "border": null,
            "bottom": null,
            "display": null,
            "flex": null,
            "flex_flow": null,
            "grid_area": null,
            "grid_auto_columns": null,
            "grid_auto_flow": null,
            "grid_auto_rows": null,
            "grid_column": null,
            "grid_gap": null,
            "grid_row": null,
            "grid_template_areas": null,
            "grid_template_columns": null,
            "grid_template_rows": null,
            "height": null,
            "justify_content": null,
            "justify_items": null,
            "left": null,
            "margin": null,
            "max_height": null,
            "max_width": null,
            "min_height": null,
            "min_width": null,
            "object_fit": null,
            "object_position": null,
            "order": null,
            "overflow": null,
            "overflow_x": null,
            "overflow_y": null,
            "padding": null,
            "right": null,
            "top": null,
            "visibility": null,
            "width": null
          }
        },
        "e5aec9bd9dba479eba8b7fbd6769edf3": {
          "model_module": "@jupyter-widgets/base",
          "model_name": "LayoutModel",
          "model_module_version": "1.2.0",
          "state": {
            "_model_module": "@jupyter-widgets/base",
            "_model_module_version": "1.2.0",
            "_model_name": "LayoutModel",
            "_view_count": null,
            "_view_module": "@jupyter-widgets/base",
            "_view_module_version": "1.2.0",
            "_view_name": "LayoutView",
            "align_content": null,
            "align_items": null,
            "align_self": null,
            "border": null,
            "bottom": null,
            "display": null,
            "flex": null,
            "flex_flow": null,
            "grid_area": null,
            "grid_auto_columns": null,
            "grid_auto_flow": null,
            "grid_auto_rows": null,
            "grid_column": null,
            "grid_gap": null,
            "grid_row": null,
            "grid_template_areas": null,
            "grid_template_columns": null,
            "grid_template_rows": null,
            "height": null,
            "justify_content": null,
            "justify_items": null,
            "left": null,
            "margin": null,
            "max_height": null,
            "max_width": null,
            "min_height": null,
            "min_width": null,
            "object_fit": null,
            "object_position": null,
            "order": null,
            "overflow": null,
            "overflow_x": null,
            "overflow_y": null,
            "padding": null,
            "right": null,
            "top": null,
            "visibility": null,
            "width": null
          }
        },
        "e0aee1c092544477997651ef1673f21f": {
          "model_module": "@jupyter-widgets/controls",
          "model_name": "DescriptionStyleModel",
          "model_module_version": "1.5.0",
          "state": {
            "_model_module": "@jupyter-widgets/controls",
            "_model_module_version": "1.5.0",
            "_model_name": "DescriptionStyleModel",
            "_view_count": null,
            "_view_module": "@jupyter-widgets/base",
            "_view_module_version": "1.2.0",
            "_view_name": "StyleView",
            "description_width": ""
          }
        },
        "2e3a4d103d8e49b89a9872170ebe6d15": {
          "model_module": "@jupyter-widgets/base",
          "model_name": "LayoutModel",
          "model_module_version": "1.2.0",
          "state": {
            "_model_module": "@jupyter-widgets/base",
            "_model_module_version": "1.2.0",
            "_model_name": "LayoutModel",
            "_view_count": null,
            "_view_module": "@jupyter-widgets/base",
            "_view_module_version": "1.2.0",
            "_view_name": "LayoutView",
            "align_content": null,
            "align_items": null,
            "align_self": null,
            "border": null,
            "bottom": null,
            "display": null,
            "flex": null,
            "flex_flow": null,
            "grid_area": null,
            "grid_auto_columns": null,
            "grid_auto_flow": null,
            "grid_auto_rows": null,
            "grid_column": null,
            "grid_gap": null,
            "grid_row": null,
            "grid_template_areas": null,
            "grid_template_columns": null,
            "grid_template_rows": null,
            "height": null,
            "justify_content": null,
            "justify_items": null,
            "left": null,
            "margin": null,
            "max_height": null,
            "max_width": null,
            "min_height": null,
            "min_width": null,
            "object_fit": null,
            "object_position": null,
            "order": null,
            "overflow": null,
            "overflow_x": null,
            "overflow_y": null,
            "padding": null,
            "right": null,
            "top": null,
            "visibility": null,
            "width": null
          }
        },
        "facb6d1112d04fe1bf0d1c3fa1bc7b9d": {
          "model_module": "@jupyter-widgets/controls",
          "model_name": "ProgressStyleModel",
          "model_module_version": "1.5.0",
          "state": {
            "_model_module": "@jupyter-widgets/controls",
            "_model_module_version": "1.5.0",
            "_model_name": "ProgressStyleModel",
            "_view_count": null,
            "_view_module": "@jupyter-widgets/base",
            "_view_module_version": "1.2.0",
            "_view_name": "StyleView",
            "bar_color": null,
            "description_width": ""
          }
        },
        "90c52bba2d6a43e0af6b73f53325cc1d": {
          "model_module": "@jupyter-widgets/base",
          "model_name": "LayoutModel",
          "model_module_version": "1.2.0",
          "state": {
            "_model_module": "@jupyter-widgets/base",
            "_model_module_version": "1.2.0",
            "_model_name": "LayoutModel",
            "_view_count": null,
            "_view_module": "@jupyter-widgets/base",
            "_view_module_version": "1.2.0",
            "_view_name": "LayoutView",
            "align_content": null,
            "align_items": null,
            "align_self": null,
            "border": null,
            "bottom": null,
            "display": null,
            "flex": null,
            "flex_flow": null,
            "grid_area": null,
            "grid_auto_columns": null,
            "grid_auto_flow": null,
            "grid_auto_rows": null,
            "grid_column": null,
            "grid_gap": null,
            "grid_row": null,
            "grid_template_areas": null,
            "grid_template_columns": null,
            "grid_template_rows": null,
            "height": null,
            "justify_content": null,
            "justify_items": null,
            "left": null,
            "margin": null,
            "max_height": null,
            "max_width": null,
            "min_height": null,
            "min_width": null,
            "object_fit": null,
            "object_position": null,
            "order": null,
            "overflow": null,
            "overflow_x": null,
            "overflow_y": null,
            "padding": null,
            "right": null,
            "top": null,
            "visibility": null,
            "width": null
          }
        },
        "b54b542a48ab4d4ca09683a266d8bfa3": {
          "model_module": "@jupyter-widgets/controls",
          "model_name": "DescriptionStyleModel",
          "model_module_version": "1.5.0",
          "state": {
            "_model_module": "@jupyter-widgets/controls",
            "_model_module_version": "1.5.0",
            "_model_name": "DescriptionStyleModel",
            "_view_count": null,
            "_view_module": "@jupyter-widgets/base",
            "_view_module_version": "1.2.0",
            "_view_name": "StyleView",
            "description_width": ""
          }
        }
      }
    }
  },
  "cells": [
    {
      "cell_type": "markdown",
      "metadata": {
        "id": "view-in-github",
        "colab_type": "text"
      },
      "source": [
        "<a href=\"https://colab.research.google.com/github/agrudkow/Cost-Free-Incremental-Learning/blob/main/notebooks/base_implementation_colab.ipynb\" target=\"_parent\"><img src=\"https://colab.research.google.com/assets/colab-badge.svg\" alt=\"Open In Colab\"/></a>"
      ]
    },
    {
      "cell_type": "markdown",
      "source": [
        "# Cost Free Incremental Learning"
      ],
      "metadata": {
        "id": "96FDGHgk14ig"
      }
    },
    {
      "cell_type": "code",
      "source": [
        "import torch\n",
        "model = torch.hub.load('pytorch/vision:v0.10.0', 'resnet18', pretrained=True)  ## False\n",
        "model.eval()"
      ],
      "metadata": {
        "id": "vtvCHkn_Btp5",
        "colab": {
          "base_uri": "https://localhost:8080/",
          "height": 1000,
          "referenced_widgets": [
            "5643dbefbc564a11869baca879b23d0b",
            "4cb2f3de89414485aa64041b938b01d2",
            "3e0211295fae418c9b45c082ff789044",
            "2f3687d28c734a7c9193e1e9b5831c03",
            "e6c0e7e2b09c473a82a7cd6a98116d51",
            "f660e6b9a734484d825dcf67ce37b604",
            "c71cd7da99924843b25ec82a877a4e8e",
            "75251e26e6474e25b472b23122a260b3",
            "15f0d9f9cd844fe88b77775354e195d0",
            "26ace724404842d3bcb2ee0c4e7df8fb",
            "6974f5e036c24253b197f44b6c794d69"
          ]
        },
        "outputId": "97286e71-9ca1-4374-d236-f36c1201442c"
      },
      "execution_count": null,
      "outputs": [
        {
          "output_type": "stream",
          "name": "stderr",
          "text": [
            "Downloading: \"https://github.com/pytorch/vision/archive/v0.10.0.zip\" to /root/.cache/torch/hub/v0.10.0.zip\n",
            "Downloading: \"https://download.pytorch.org/models/resnet18-f37072fd.pth\" to /root/.cache/torch/hub/checkpoints/resnet18-f37072fd.pth\n"
          ]
        },
        {
          "output_type": "display_data",
          "data": {
            "text/plain": [
              "  0%|          | 0.00/44.7M [00:00<?, ?B/s]"
            ],
            "application/vnd.jupyter.widget-view+json": {
              "version_major": 2,
              "version_minor": 0,
              "model_id": "5643dbefbc564a11869baca879b23d0b"
            }
          },
          "metadata": {}
        },
        {
          "output_type": "execute_result",
          "data": {
            "text/plain": [
              "ResNet(\n",
              "  (conv1): Conv2d(3, 64, kernel_size=(7, 7), stride=(2, 2), padding=(3, 3), bias=False)\n",
              "  (bn1): BatchNorm2d(64, eps=1e-05, momentum=0.1, affine=True, track_running_stats=True)\n",
              "  (relu): ReLU(inplace=True)\n",
              "  (maxpool): MaxPool2d(kernel_size=3, stride=2, padding=1, dilation=1, ceil_mode=False)\n",
              "  (layer1): Sequential(\n",
              "    (0): BasicBlock(\n",
              "      (conv1): Conv2d(64, 64, kernel_size=(3, 3), stride=(1, 1), padding=(1, 1), bias=False)\n",
              "      (bn1): BatchNorm2d(64, eps=1e-05, momentum=0.1, affine=True, track_running_stats=True)\n",
              "      (relu): ReLU(inplace=True)\n",
              "      (conv2): Conv2d(64, 64, kernel_size=(3, 3), stride=(1, 1), padding=(1, 1), bias=False)\n",
              "      (bn2): BatchNorm2d(64, eps=1e-05, momentum=0.1, affine=True, track_running_stats=True)\n",
              "    )\n",
              "    (1): BasicBlock(\n",
              "      (conv1): Conv2d(64, 64, kernel_size=(3, 3), stride=(1, 1), padding=(1, 1), bias=False)\n",
              "      (bn1): BatchNorm2d(64, eps=1e-05, momentum=0.1, affine=True, track_running_stats=True)\n",
              "      (relu): ReLU(inplace=True)\n",
              "      (conv2): Conv2d(64, 64, kernel_size=(3, 3), stride=(1, 1), padding=(1, 1), bias=False)\n",
              "      (bn2): BatchNorm2d(64, eps=1e-05, momentum=0.1, affine=True, track_running_stats=True)\n",
              "    )\n",
              "  )\n",
              "  (layer2): Sequential(\n",
              "    (0): BasicBlock(\n",
              "      (conv1): Conv2d(64, 128, kernel_size=(3, 3), stride=(2, 2), padding=(1, 1), bias=False)\n",
              "      (bn1): BatchNorm2d(128, eps=1e-05, momentum=0.1, affine=True, track_running_stats=True)\n",
              "      (relu): ReLU(inplace=True)\n",
              "      (conv2): Conv2d(128, 128, kernel_size=(3, 3), stride=(1, 1), padding=(1, 1), bias=False)\n",
              "      (bn2): BatchNorm2d(128, eps=1e-05, momentum=0.1, affine=True, track_running_stats=True)\n",
              "      (downsample): Sequential(\n",
              "        (0): Conv2d(64, 128, kernel_size=(1, 1), stride=(2, 2), bias=False)\n",
              "        (1): BatchNorm2d(128, eps=1e-05, momentum=0.1, affine=True, track_running_stats=True)\n",
              "      )\n",
              "    )\n",
              "    (1): BasicBlock(\n",
              "      (conv1): Conv2d(128, 128, kernel_size=(3, 3), stride=(1, 1), padding=(1, 1), bias=False)\n",
              "      (bn1): BatchNorm2d(128, eps=1e-05, momentum=0.1, affine=True, track_running_stats=True)\n",
              "      (relu): ReLU(inplace=True)\n",
              "      (conv2): Conv2d(128, 128, kernel_size=(3, 3), stride=(1, 1), padding=(1, 1), bias=False)\n",
              "      (bn2): BatchNorm2d(128, eps=1e-05, momentum=0.1, affine=True, track_running_stats=True)\n",
              "    )\n",
              "  )\n",
              "  (layer3): Sequential(\n",
              "    (0): BasicBlock(\n",
              "      (conv1): Conv2d(128, 256, kernel_size=(3, 3), stride=(2, 2), padding=(1, 1), bias=False)\n",
              "      (bn1): BatchNorm2d(256, eps=1e-05, momentum=0.1, affine=True, track_running_stats=True)\n",
              "      (relu): ReLU(inplace=True)\n",
              "      (conv2): Conv2d(256, 256, kernel_size=(3, 3), stride=(1, 1), padding=(1, 1), bias=False)\n",
              "      (bn2): BatchNorm2d(256, eps=1e-05, momentum=0.1, affine=True, track_running_stats=True)\n",
              "      (downsample): Sequential(\n",
              "        (0): Conv2d(128, 256, kernel_size=(1, 1), stride=(2, 2), bias=False)\n",
              "        (1): BatchNorm2d(256, eps=1e-05, momentum=0.1, affine=True, track_running_stats=True)\n",
              "      )\n",
              "    )\n",
              "    (1): BasicBlock(\n",
              "      (conv1): Conv2d(256, 256, kernel_size=(3, 3), stride=(1, 1), padding=(1, 1), bias=False)\n",
              "      (bn1): BatchNorm2d(256, eps=1e-05, momentum=0.1, affine=True, track_running_stats=True)\n",
              "      (relu): ReLU(inplace=True)\n",
              "      (conv2): Conv2d(256, 256, kernel_size=(3, 3), stride=(1, 1), padding=(1, 1), bias=False)\n",
              "      (bn2): BatchNorm2d(256, eps=1e-05, momentum=0.1, affine=True, track_running_stats=True)\n",
              "    )\n",
              "  )\n",
              "  (layer4): Sequential(\n",
              "    (0): BasicBlock(\n",
              "      (conv1): Conv2d(256, 512, kernel_size=(3, 3), stride=(2, 2), padding=(1, 1), bias=False)\n",
              "      (bn1): BatchNorm2d(512, eps=1e-05, momentum=0.1, affine=True, track_running_stats=True)\n",
              "      (relu): ReLU(inplace=True)\n",
              "      (conv2): Conv2d(512, 512, kernel_size=(3, 3), stride=(1, 1), padding=(1, 1), bias=False)\n",
              "      (bn2): BatchNorm2d(512, eps=1e-05, momentum=0.1, affine=True, track_running_stats=True)\n",
              "      (downsample): Sequential(\n",
              "        (0): Conv2d(256, 512, kernel_size=(1, 1), stride=(2, 2), bias=False)\n",
              "        (1): BatchNorm2d(512, eps=1e-05, momentum=0.1, affine=True, track_running_stats=True)\n",
              "      )\n",
              "    )\n",
              "    (1): BasicBlock(\n",
              "      (conv1): Conv2d(512, 512, kernel_size=(3, 3), stride=(1, 1), padding=(1, 1), bias=False)\n",
              "      (bn1): BatchNorm2d(512, eps=1e-05, momentum=0.1, affine=True, track_running_stats=True)\n",
              "      (relu): ReLU(inplace=True)\n",
              "      (conv2): Conv2d(512, 512, kernel_size=(3, 3), stride=(1, 1), padding=(1, 1), bias=False)\n",
              "      (bn2): BatchNorm2d(512, eps=1e-05, momentum=0.1, affine=True, track_running_stats=True)\n",
              "    )\n",
              "  )\n",
              "  (avgpool): AdaptiveAvgPool2d(output_size=(1, 1))\n",
              "  (fc): Linear(in_features=512, out_features=1000, bias=True)\n",
              ")"
            ]
          },
          "metadata": {},
          "execution_count": 1
        }
      ]
    },
    {
      "cell_type": "code",
      "source": [
        "num_classes=cif.N_CLASSES_PER_TASK*cif.N_TASKS\n",
        "model.fc = nn.Linear(512, num_classes)"
      ],
      "metadata": {
        "id": "31aGl855Snfe"
      },
      "execution_count": null,
      "outputs": []
    },
    {
      "cell_type": "code",
      "source": [
        "import torchvision.transforms as transforms\n",
        "import torchvision\n",
        "\n",
        "transform = transforms.Compose(\n",
        "    [transforms.ToTensor(),\n",
        "     transforms.Normalize((0.5, 0.5, 0.5), (0.5, 0.5, 0.5))])\n",
        "\n",
        "\n",
        "batch_size=32\n",
        "\n",
        "trainset = torchvision.datasets.CIFAR10(root='./data', train=True,\n",
        "                                        download=True, transform=transform)\n",
        "trainloader = torch.utils.data.DataLoader(trainset, batch_size=batch_size,\n",
        "                                          shuffle=True, num_workers=2)\n",
        "\n",
        "testset = torchvision.datasets.CIFAR10(root='./data', train=False,\n",
        "                                       download=True, transform=transform)\n",
        "testloader = torch.utils.data.DataLoader(testset, batch_size=batch_size,\n",
        "                                         shuffle=False, num_workers=2)\n",
        "\n",
        "classes = ('plane', 'car', 'bird', 'cat',\n",
        "           'deer', 'dog', 'frog', 'horse', 'ship', 'truck')"
      ],
      "metadata": {
        "id": "p7w7CthCBtrt",
        "colab": {
          "base_uri": "https://localhost:8080/",
          "height": 101,
          "referenced_widgets": [
            "29df89df139f4ba08fc04d2da6822c03",
            "53fbb9e5a1d24c1eb45f141739159c62",
            "5822b4b1170046d5a44548e60661f022",
            "80cb6a0593fe46c59648b7089088f8f1",
            "4229d61101f048fa9f2e79164ba11821",
            "e5aec9bd9dba479eba8b7fbd6769edf3",
            "e0aee1c092544477997651ef1673f21f",
            "2e3a4d103d8e49b89a9872170ebe6d15",
            "facb6d1112d04fe1bf0d1c3fa1bc7b9d",
            "90c52bba2d6a43e0af6b73f53325cc1d",
            "b54b542a48ab4d4ca09683a266d8bfa3"
          ]
        },
        "outputId": "b7730104-f1b6-4bb6-b3db-bd9da9347309"
      },
      "execution_count": null,
      "outputs": [
        {
          "output_type": "stream",
          "name": "stdout",
          "text": [
            "Downloading https://www.cs.toronto.edu/~kriz/cifar-10-python.tar.gz to ./data/cifar-10-python.tar.gz\n"
          ]
        },
        {
          "output_type": "display_data",
          "data": {
            "text/plain": [
              "  0%|          | 0/170498071 [00:00<?, ?it/s]"
            ],
            "application/vnd.jupyter.widget-view+json": {
              "version_major": 2,
              "version_minor": 0,
              "model_id": "29df89df139f4ba08fc04d2da6822c03"
            }
          },
          "metadata": {}
        },
        {
          "output_type": "stream",
          "name": "stdout",
          "text": [
            "Extracting ./data/cifar-10-python.tar.gz to ./data\n",
            "Files already downloaded and verified\n"
          ]
        }
      ]
    },
    {
      "cell_type": "code",
      "source": [
        "# Set PYTHONPATH\\\n",
        "import os\n",
        "import pathlib\n",
        "os.environ['PYTHONPATH']+=os.environ['PYTHONPATH']+\":\"+\"/content/Cost-Free-Incremental-Learning\""
      ],
      "metadata": {
        "colab": {
          "base_uri": "https://localhost:8080/",
          "height": 183
        },
        "id": "OIbcDF_JIZcm",
        "outputId": "da34b721-6307-4be6-e6b9-8685ec5420ef"
      },
      "execution_count": null,
      "outputs": [
        {
          "output_type": "error",
          "ename": "NameError",
          "evalue": "ignored",
          "traceback": [
            "\u001b[0;31m---------------------------------------------------------------------------\u001b[0m",
            "\u001b[0;31mNameError\u001b[0m                                 Traceback (most recent call last)",
            "\u001b[0;32m<ipython-input-3-e392f54b47ca>\u001b[0m in \u001b[0;36m<module>\u001b[0;34m()\u001b[0m\n\u001b[1;32m      1\u001b[0m \u001b[0;31m# Set PYTHONPATH\u001b[0m\u001b[0;34m\u001b[0m\u001b[0;34m\u001b[0m\u001b[0;34m\u001b[0m\u001b[0m\n\u001b[0;32m----> 2\u001b[0;31m \u001b[0mos\u001b[0m\u001b[0;34m.\u001b[0m\u001b[0menviron\u001b[0m\u001b[0;34m[\u001b[0m\u001b[0;34m'PYTHONPATH'\u001b[0m\u001b[0;34m]\u001b[0m\u001b[0;34m+=\u001b[0m\u001b[0mos\u001b[0m\u001b[0;34m.\u001b[0m\u001b[0menviron\u001b[0m\u001b[0;34m[\u001b[0m\u001b[0;34m'PYTHONPATH'\u001b[0m\u001b[0;34m]\u001b[0m\u001b[0;34m+\u001b[0m\u001b[0;34m\":\"\u001b[0m\u001b[0;34m+\u001b[0m\u001b[0;34m\"/content/Cost-Free-Incremental-Learning\"\u001b[0m\u001b[0;34m\u001b[0m\u001b[0;34m\u001b[0m\u001b[0m\n\u001b[0m",
            "\u001b[0;31mNameError\u001b[0m: name 'os' is not defined"
          ]
        }
      ]
    },
    {
      "cell_type": "code",
      "source": [
        "import torch.optim as optim\n",
        "import torch.nn as nn\n",
        "\n",
        "criterion = nn.CrossEntropyLoss()\n",
        "optimizer = optim.SGD(model.parameters(), lr=0.001, momentum=0.9)"
      ],
      "metadata": {
        "id": "6hk7eOyZBtu8"
      },
      "execution_count": null,
      "outputs": []
    },
    {
      "cell_type": "code",
      "source": [
        "from argparse import ArgumentParser\n",
        "from utils.args import add_management_args\n",
        "parser = ArgumentParser(description='cflr', allow_abbrev=False)\n",
        "\n",
        "add_management_args(parser)\n",
        "args = parser.parse_known_args()[0]\n"
      ],
      "metadata": {
        "id": "lFwUFVKUG6qW"
      },
      "execution_count": null,
      "outputs": []
    },
    {
      "cell_type": "code",
      "source": [
        "from torchvision.datasets import CIFAR10\n",
        "import torchvision.transforms as transforms\n",
        "from backbone.ResNet18 import resnet18\n",
        "import torch.nn.functional as F\n",
        "from datasets.seq_tinyimagenet import base_path\n",
        "from PIL import Image\n",
        "from datasets.utils.validation import get_train_val\n",
        "from datasets.utils.continual_dataset import ContinualDataset, store_masked_loaders\n",
        "from datasets.utils.continual_dataset import get_previous_train_loader\n",
        "from typing import Tuple\n",
        "from datasets.transforms.denormalization import DeNormalize\n",
        "\n",
        "\n",
        "class SequentialCIFAR10(ContinualDataset):\n",
        "\n",
        "    NAME = 'seq-cifar10'\n",
        "    SETTING = 'class-il'\n",
        "    N_CLASSES_PER_TASK = 2\n",
        "    N_TASKS = 5\n",
        "    TRANSFORM = transforms.Compose(\n",
        "            [transforms.RandomCrop(32, padding=4),\n",
        "             transforms.RandomHorizontalFlip(),\n",
        "             transforms.ToTensor(),\n",
        "             transforms.Normalize((0.4914, 0.4822, 0.4465),\n",
        "                                  (0.2470, 0.2435, 0.2615))])\n",
        "\n",
        "    def get_data_loaders(self):\n",
        "        transform = self.TRANSFORM\n",
        "\n",
        "        test_transform = transforms.Compose(\n",
        "            [transforms.ToTensor(), self.get_normalization_transform()])\n",
        "\n",
        "        train_dataset = MyCIFAR10(base_path() + 'CIFAR10', train=True,\n",
        "                                  download=True, transform=transform)\n",
        "        if self.args.validation:\n",
        "            train_dataset, test_dataset = get_train_val(train_dataset,\n",
        "                                                    test_transform, self.NAME)\n",
        "        else:\n",
        "            test_dataset = CIFAR10(base_path() + 'CIFAR10',train=False,\n",
        "                                   download=True, transform=test_transform)\n",
        "\n",
        "        train, test = store_masked_loaders(train_dataset, test_dataset, self)\n",
        "        return train, test\n",
        "\n",
        "    def not_aug_dataloader(self, batch_size):\n",
        "        transform = transforms.Compose([transforms.ToTensor(), self.get_normalization_transform()])\n",
        "\n",
        "        train_dataset = MyCIFAR10(base_path() + 'CIFAR10', train=True,\n",
        "                                  download=True, transform=transform)\n",
        "        train_loader = get_previous_train_loader(train_dataset, batch_size, self)\n",
        "\n",
        "        return train_loader\n",
        "\n",
        "    @staticmethod\n",
        "    def get_transform():\n",
        "        transform = transforms.Compose(\n",
        "            [transforms.ToPILImage(), SequentialCIFAR10.TRANSFORM])\n",
        "        return transform\n",
        "\n",
        "    @staticmethod\n",
        "    def get_backbone():\n",
        "        return resnet18(SequentialCIFAR10.N_CLASSES_PER_TASK\n",
        "                        * SequentialCIFAR10.N_TASKS)\n",
        "\n",
        "    @staticmethod\n",
        "    def get_loss():\n",
        "        return F.cross_entropy\n",
        "\n",
        "    @staticmethod\n",
        "    def get_normalization_transform():\n",
        "        transform = transforms.Normalize((0.4914, 0.4822, 0.4465),\n",
        "                                         (0.2470, 0.2435, 0.2615))\n",
        "        return transform\n",
        "\n",
        "    @staticmethod\n",
        "    def get_denormalization_transform():\n",
        "        transform = DeNormalize((0.4914, 0.4822, 0.4465),\n",
        "                                (0.2470, 0.2435, 0.2615))\n",
        "        return transform\n",
        "\n",
        "\n",
        "class MyCIFAR10(CIFAR10):\n",
        "    \"\"\"\n",
        "    Overrides the CIFAR10 dataset to change the getitem function.\n",
        "    \"\"\"\n",
        "    def __init__(self, root, train=True, transform=None,\n",
        "                 target_transform=None, download=False) -> None:\n",
        "        self.not_aug_transform = transforms.Compose([transforms.ToTensor()])\n",
        "        super(MyCIFAR10, self).__init__(root, train, transform, target_transform, download)\n",
        "\n",
        "    def __getitem__(self, index: int) -> Tuple[Image.Image, int, Image.Image]:\n",
        "        \"\"\"\n",
        "        Gets the requested element from the dataset.\n",
        "        :param index: index of the element to be returned\n",
        "        :returns: tuple: (image, target) where target is index of the target class.\n",
        "        \"\"\"\n",
        "        img, target = self.data[index], self.targets[index]\n",
        "\n",
        "        # to return a PIL Image\n",
        "        img = Image.fromarray(img, mode='RGB')\n",
        "        original_img = img.copy()\n",
        "\n",
        "        not_aug_img = self.not_aug_transform(original_img)\n",
        "\n",
        "        if self.transform is not None:\n",
        "            img = self.transform(img)\n",
        "\n",
        "        if self.target_transform is not None:\n",
        "            target = self.target_transform(target)\n",
        "\n",
        "        if hasattr(self, 'logits'):\n",
        "            return img, target, not_aug_img, self.logits[index]\n",
        "\n",
        "        return img, target, not_aug_img\n",
        "\n"
      ],
      "metadata": {
        "id": "xvLvr1xpE02r"
      },
      "execution_count": null,
      "outputs": []
    },
    {
      "cell_type": "code",
      "source": [
        "setattr(args, \"validation\", True)\n",
        "setattr(args, \"batch_size\", 32)"
      ],
      "metadata": {
        "id": "ISyjK40NG6tQ"
      },
      "execution_count": null,
      "outputs": []
    },
    {
      "cell_type": "code",
      "source": [
        "def generateDirch(batch_size,c,scale, simMat):   ##### copied\n",
        "\tx=[]\n",
        "\tprint(\"sim\", simMat.shape)\n",
        "\tsim=simMat[c,:] \n",
        "\tfor b in range(batch_size):\n",
        "\t\t#temp=sim*scale\n",
        "\t\ttemp=(sim-np.min(sim))/(np.max(sim)-np.min(sim))\n",
        "\t\ttemp=temp*scale + 0.0001\n",
        "\t\tx.append(np.random.dirichlet(temp))\n",
        "\tx=np.array(x)\n",
        "\n",
        "\treturn x\n"
      ],
      "metadata": {
        "id": "AgPiwICJSeFb"
      },
      "execution_count": null,
      "outputs": []
    },
    {
      "cell_type": "code",
      "source": [
        "import pickle\n",
        "import sklearn.preprocessing as pp\n",
        "import numpy as np\n",
        "\n",
        "torch.set_default_dtype(torch.float64)\n",
        "\n",
        "def recovery_memory(model, dataset, n_tasks):\n",
        "   fc_weights = model.fc.weight.detach().numpy()\n",
        "\n",
        "   #fc_bias=model.fc.bias\n",
        "   fc_weights=np.transpose(fc_weights)  ####### nasz pomysł\n",
        "   print(fc_weights.shape)\n",
        "   fc_weight_norm =  pp.normalize(fc_weights,axis=0)\n",
        "   im_sim_mat = np.matmul(np.transpose(fc_weight_norm),fc_weight_norm)\n",
        "\n",
        "   norm1=(im_sim_mat-np.min(im_sim_mat))/(np.max(im_sim_mat)-np.min(im_sim_mat))\n",
        "\n",
        "\n",
        "   \n",
        "\n",
        "   #img_tensor=img_tensor.to(torch.double)\n",
        "\n",
        "   #img_tensor=torch.tensor(inputs[0].reshape((1,3, 32,32)), requires_grad=True)\n",
        "\n",
        "   images_all=[]\n",
        "   logits_all=[]\n",
        "\n",
        "   for classes in range(n_tasks*2):\n",
        "    p =1 ### ile obrazków generujemy\n",
        "    pseudolabel = generateDirch(p,classes,1,norm1)  ### scale =0.1 ?\n",
        "\n",
        "\n",
        "    \n",
        "    for i in range(p):\n",
        "      img=np.random.normal(0.5, 0.5, size=(32,32,3))\n",
        "      #img=img.reshape(3, 32,32)\n",
        "      img=img.astype(np.float32)\n",
        "\n",
        "      print(inputs[0].dtype)\n",
        "      img_tensor=torch.tensor(img.reshape((1,3, 32,32)), requires_grad=True)\n",
        "      plt.imshow(transforms.ToPILImage()(img_tensor.reshape(3,32,32)))\n",
        "      plt.show()\n",
        "\n",
        "\n",
        "      logits=model(img_tensor)\n",
        "      print(logits)\n",
        "      loss=criterion(logits, torch.tensor(pseudolabel[i]).reshape(1,-1))\n",
        "      loss.backward()\n",
        "    \n",
        "    ########## add assert on weights\n",
        "\n",
        "      img_tensor_grad=img_tensor+img_tensor.grad\n",
        "      \n",
        "\n",
        "      logits_synthetic=model(img_tensor_grad).detach().numpy() #### brakuje pętli aby generować więcej obrazków\n",
        "\n",
        "      img_tensor_grad=img_tensor_grad.detach().numpy()\n",
        "      images_all.append(img_tensor_grad)\n",
        "      logits_all.append(logits_synthetic)\n",
        "    \n",
        "\n",
        "\n",
        "    #pickle.dump(norm1,open('visualMat_alexnet_cifar10_scale_1.pickle','wb'),protocol=2)\n",
        "    #pickle.dump(norm1/10,open('visualMat_alexnet_cifar10_scale_0.1.pickle','wb'),protocol=2)\n",
        "\n",
        "   return (np.array(images_all), np.array(logits_all))"
      ],
      "metadata": {
        "id": "JX4LBy5YO7Mu"
      },
      "execution_count": null,
      "outputs": []
    },
    {
      "cell_type": "code",
      "source": [
        "import sys\n",
        "import pickle\n",
        "########## check the shape of weights - shoutl be 10, 512\n",
        "#fc_weight=pickle.load(open('/content/Cost-Free-Incremental-Learning/weight_and_bias_of_last_layer_alexnet_teacher_cifar10.pickle','rb'))\n"
      ],
      "metadata": {
        "id": "U8YTj6VOdsd5"
      },
      "execution_count": null,
      "outputs": []
    },
    {
      "cell_type": "code",
      "source": [
        "img_noise = recovery_memory(model, cif)[0][0].reshape(32,32,3)\n",
        "print(img_noise.shape)\n",
        "#img_noise=img_noise.astype(np.float64)\n",
        "plt.imshow(transforms.ToPILImage()(img_noise.astype('uint8')))  ### unit8 jest dziwny bez niego wyżej działa\n",
        "# https://stackoverflow.com/questions/62617533/trouble-with-pytorchs-topilimage\n",
        "plt.show()"
      ],
      "metadata": {
        "colab": {
          "base_uri": "https://localhost:8080/",
          "height": 252
        },
        "id": "0SmoKvg4Plti",
        "outputId": "e6cd3d00-8c39-40fd-fc91-c3f214b91424"
      },
      "execution_count": null,
      "outputs": [
        {
          "output_type": "error",
          "ename": "TypeError",
          "evalue": "ignored",
          "traceback": [
            "\u001b[0;31m---------------------------------------------------------------------------\u001b[0m",
            "\u001b[0;31mTypeError\u001b[0m                                 Traceback (most recent call last)",
            "\u001b[0;32m<ipython-input-276-193ef2cbdb5f>\u001b[0m in \u001b[0;36m<module>\u001b[0;34m()\u001b[0m\n\u001b[0;32m----> 1\u001b[0;31m \u001b[0mimg_noise\u001b[0m \u001b[0;34m=\u001b[0m \u001b[0mrecovery_memory\u001b[0m\u001b[0;34m(\u001b[0m\u001b[0mmodel\u001b[0m\u001b[0;34m,\u001b[0m \u001b[0mcif\u001b[0m\u001b[0;34m)\u001b[0m\u001b[0;34m[\u001b[0m\u001b[0;36m0\u001b[0m\u001b[0;34m]\u001b[0m\u001b[0;34m[\u001b[0m\u001b[0;36m0\u001b[0m\u001b[0;34m]\u001b[0m\u001b[0;34m.\u001b[0m\u001b[0mreshape\u001b[0m\u001b[0;34m(\u001b[0m\u001b[0;36m32\u001b[0m\u001b[0;34m,\u001b[0m\u001b[0;36m32\u001b[0m\u001b[0;34m,\u001b[0m\u001b[0;36m3\u001b[0m\u001b[0;34m)\u001b[0m\u001b[0;34m\u001b[0m\u001b[0;34m\u001b[0m\u001b[0m\n\u001b[0m\u001b[1;32m      2\u001b[0m \u001b[0mprint\u001b[0m\u001b[0;34m(\u001b[0m\u001b[0mimg_noise\u001b[0m\u001b[0;34m.\u001b[0m\u001b[0mshape\u001b[0m\u001b[0;34m)\u001b[0m\u001b[0;34m\u001b[0m\u001b[0;34m\u001b[0m\u001b[0m\n\u001b[1;32m      3\u001b[0m \u001b[0;31m#img_noise=img_noise.astype(np.float64)\u001b[0m\u001b[0;34m\u001b[0m\u001b[0;34m\u001b[0m\u001b[0;34m\u001b[0m\u001b[0m\n\u001b[1;32m      4\u001b[0m \u001b[0mplt\u001b[0m\u001b[0;34m.\u001b[0m\u001b[0mimshow\u001b[0m\u001b[0;34m(\u001b[0m\u001b[0mtransforms\u001b[0m\u001b[0;34m.\u001b[0m\u001b[0mToPILImage\u001b[0m\u001b[0;34m(\u001b[0m\u001b[0;34m)\u001b[0m\u001b[0;34m(\u001b[0m\u001b[0mimg_noise\u001b[0m\u001b[0;34m.\u001b[0m\u001b[0mastype\u001b[0m\u001b[0;34m(\u001b[0m\u001b[0;34m'uint8'\u001b[0m\u001b[0;34m)\u001b[0m\u001b[0;34m)\u001b[0m\u001b[0;34m)\u001b[0m  \u001b[0;31m### unit8 jest dziwny bez niego wyżej działa\u001b[0m\u001b[0;34m\u001b[0m\u001b[0;34m\u001b[0m\u001b[0m\n\u001b[1;32m      5\u001b[0m \u001b[0;31m# https://stackoverflow.com/questions/62617533/trouble-with-pytorchs-topilimage\u001b[0m\u001b[0;34m\u001b[0m\u001b[0;34m\u001b[0m\u001b[0;34m\u001b[0m\u001b[0m\n",
            "\u001b[0;31mTypeError\u001b[0m: recovery_memory() missing 1 required positional argument: 'n_tasks'"
          ]
        }
      ]
    },
    {
      "cell_type": "code",
      "source": [
        "model.fc.weight.shape"
      ],
      "metadata": {
        "colab": {
          "base_uri": "https://localhost:8080/"
        },
        "id": "h-NlRIMNRZdJ",
        "outputId": "281d0346-103d-48d4-9fc8-a8ab910bb34e"
      },
      "execution_count": null,
      "outputs": [
        {
          "output_type": "execute_result",
          "data": {
            "text/plain": [
              "torch.Size([10, 512])"
            ]
          },
          "metadata": {},
          "execution_count": 277
        }
      ]
    },
    {
      "cell_type": "code",
      "source": [
        "cif=SequentialCIFAR10(args)\n",
        "\n",
        "import matplotlib.pyplot as plt\n",
        "import numpy as np\n",
        "\n",
        "\n",
        "from PIL import Image\n",
        "\n",
        "\n",
        "\n",
        "lambda_coef=0.2 ### do sprawdzenia\n",
        "\n",
        "for n_tasks in range(cif.N_TASKS):\n",
        "\n",
        "  train_loader, test_loader=cif.get_data_loaders()\n",
        "\n",
        "  for epoch in range(1):  # loop over the dataset multiple times\n",
        "\n",
        "\n",
        "      running_loss = 0.0\n",
        "      for i, data in enumerate(trainloader, 0):\n",
        "          # get the inputs; data is a list of [inputs, labels]\n",
        "          inputs, labels = data\n",
        "\n",
        "\n",
        "\n",
        "          ####### TODO - DISPLAY SAMPLES\n",
        "          plt.imshow(transforms.ToPILImage()(inputs[0]))\n",
        "          plt.show()\n",
        "\n",
        "          # zero the parameter gradients\n",
        "          optimizer.zero_grad()\n",
        "\n",
        "          # forward + backward + optimize\n",
        "          outputs = model(inputs.to(torch.float32))\n",
        "          loss = criterion(outputs, labels)\n",
        "\n",
        "\n",
        "          \n",
        "\n",
        "          # print statistics\n",
        "          running_loss += loss.item()\n",
        "          if i % 20 == 0:    # print every 20 mini-batches\n",
        "              print(f'[{epoch + 1}, {i + 1:5d}] loss: {running_loss / 20:.3f}')\n",
        "              running_loss = 0.0\n",
        "              break\n",
        "\n",
        "          if n_tasks>1:\n",
        "              im1, log1 = model(synthetic_img)\n",
        "              loss_mse=nn.optimizer.mse(log1, synthetic_logits)\n",
        "              loss_total=loss+lambda_coeff*loss_mse\n",
        "\n",
        "              loss_total.backward()\n",
        "              optimizer.step()\n",
        "              \n",
        "\n",
        "  \n",
        "\n",
        "  synthetic_img, synthetic_logits=recovery_memory(model,  cif, n_tasks)      ### or train_loader, param - ile wygenerować\n",
        " ######### zamienić n_tasks na listę klas już omówionych\n",
        "\n",
        "print('Finished Training')"
      ],
      "metadata": {
        "id": "_5aTfORqBtwt",
        "colab": {
          "base_uri": "https://localhost:8080/",
          "height": 1000
        },
        "outputId": "38de57d9-d2a3-4cbe-cab5-eda481d02f13"
      },
      "execution_count": null,
      "outputs": [
        {
          "output_type": "stream",
          "name": "stdout",
          "text": [
            "Files already downloaded and verified\n"
          ]
        },
        {
          "output_type": "stream",
          "name": "stderr",
          "text": [
            "/usr/local/lib/python3.7/dist-packages/torch/utils/data/dataloader.py:490: UserWarning: This DataLoader will create 4 worker processes in total. Our suggested max number of worker in current system is 2, which is smaller than what this DataLoader is going to create. Please be aware that excessive worker creation might get DataLoader running slow or even freeze, lower the worker number to avoid potential slowness/freeze if necessary.\n",
            "  #               returns or see that `pin_memory_thread` died.\n"
          ]
        },
        {
          "output_type": "display_data",
          "data": {
            "text/plain": [
              "<Figure size 432x288 with 1 Axes>"
            ],
            "image/png": "[encoded data removed]"
          },
          "metadata": {
            "needs_background": "light"
          }
        },
        {
          "output_type": "stream",
          "name": "stdout",
          "text": [
            "[1,     1] loss: 0.130\n",
            "(512, 10)\n",
            "Files already downloaded and verified\n"
          ]
        },
        {
          "output_type": "stream",
          "name": "stderr",
          "text": [
            "/usr/local/lib/python3.7/dist-packages/torch/utils/data/dataloader.py:490: UserWarning: This DataLoader will create 4 worker processes in total. Our suggested max number of worker in current system is 2, which is smaller than what this DataLoader is going to create. Please be aware that excessive worker creation might get DataLoader running slow or even freeze, lower the worker number to avoid potential slowness/freeze if necessary.\n",
            "  #               returns or see that `pin_memory_thread` died.\n"
          ]
        },
        {
          "output_type": "display_data",
          "data": {
            "text/plain": [
              "<Figure size 432x288 with 1 Axes>"
            ],
            "image/png": "[encoded data removed]"
          },
          "metadata": {
            "needs_background": "light"
          }
        },
        {
          "output_type": "stream",
          "name": "stdout",
          "text": [
            "[1,     1] loss: 0.125\n",
            "(512, 10)\n",
            "sim (10, 10)\n",
            "torch.float64\n"
          ]
        },
        {
          "output_type": "display_data",
          "data": {
            "text/plain": [
              "<Figure size 432x288 with 1 Axes>"
            ],
            "image/png": "[encoded data removed]"
          },
          "metadata": {
            "needs_background": "light"
          }
        },
        {
          "output_type": "stream",
          "name": "stdout",
          "text": [
            "tensor([[ 0.3761, -0.3966,  0.1058,  0.6298,  0.5794,  0.3189, -0.1804,  0.1948,\n",
            "         -0.2019, -0.6581]], dtype=torch.float32, grad_fn=<AddmmBackward0>)\n",
            "sim (10, 10)\n",
            "torch.float64\n"
          ]
        },
        {
          "output_type": "display_data",
          "data": {
            "text/plain": [
              "<Figure size 432x288 with 1 Axes>"
            ],
            "image/png": "[encoded data removed]"
          },
          "metadata": {
            "needs_background": "light"
          }
        },
        {
          "output_type": "stream",
          "name": "stdout",
          "text": [
            "tensor([[ 0.3198, -0.3801,  0.1572,  0.8122,  0.6689,  0.4497, -0.2615,  0.2622,\n",
            "         -0.1195, -0.7799]], dtype=torch.float32, grad_fn=<AddmmBackward0>)\n",
            "Files already downloaded and verified\n"
          ]
        },
        {
          "output_type": "stream",
          "name": "stderr",
          "text": [
            "/usr/local/lib/python3.7/dist-packages/torch/utils/data/dataloader.py:490: UserWarning: This DataLoader will create 4 worker processes in total. Our suggested max number of worker in current system is 2, which is smaller than what this DataLoader is going to create. Please be aware that excessive worker creation might get DataLoader running slow or even freeze, lower the worker number to avoid potential slowness/freeze if necessary.\n",
            "  #               returns or see that `pin_memory_thread` died.\n"
          ]
        },
        {
          "output_type": "display_data",
          "data": {
            "text/plain": [
              "<Figure size 432x288 with 1 Axes>"
            ],
            "image/png": "[encoded data removed]"
          },
          "metadata": {
            "needs_background": "light"
          }
        },
        {
          "output_type": "stream",
          "name": "stdout",
          "text": [
            "[1,     1] loss: 0.122\n",
            "(512, 10)\n",
            "sim (10, 10)\n",
            "torch.float64\n"
          ]
        },
        {
          "output_type": "display_data",
          "data": {
            "text/plain": [
              "<Figure size 432x288 with 1 Axes>"
            ],
            "image/png": "[encoded data removed]"
          },
          "metadata": {
            "needs_background": "light"
          }
        },
        {
          "output_type": "stream",
          "name": "stdout",
          "text": [
            "tensor([[ 0.2074, -0.5237,  0.2467,  0.7396,  0.6955,  0.3951, -0.0529,  0.2274,\n",
            "         -0.3915, -0.7462]], dtype=torch.float32, grad_fn=<AddmmBackward0>)\n",
            "sim (10, 10)\n",
            "torch.float64\n"
          ]
        },
        {
          "output_type": "display_data",
          "data": {
            "text/plain": [
              "<Figure size 432x288 with 1 Axes>"
            ],
            "image/png": "[encoded data removed]"
          },
          "metadata": {
            "needs_background": "light"
          }
        },
        {
          "output_type": "stream",
          "name": "stdout",
          "text": [
            "tensor([[ 0.3020, -0.4806,  0.1488,  0.7055,  0.6081,  0.4145, -0.1303,  0.1748,\n",
            "         -0.3054, -0.7093]], dtype=torch.float32, grad_fn=<AddmmBackward0>)\n",
            "sim (10, 10)\n",
            "torch.float64\n"
          ]
        },
        {
          "output_type": "display_data",
          "data": {
            "text/plain": [
              "<Figure size 432x288 with 1 Axes>"
            ],
            "image/png": "[encoded data removed]"
          },
          "metadata": {
            "needs_background": "light"
          }
        },
        {
          "output_type": "stream",
          "name": "stdout",
          "text": [
            "tensor([[ 0.2936, -0.5497,  0.1732,  0.7256,  0.7858,  0.4347, -0.1132,  0.3117,\n",
            "         -0.4716, -0.7983]], dtype=torch.float32, grad_fn=<AddmmBackward0>)\n",
            "sim (10, 10)\n",
            "torch.float64\n"
          ]
        },
        {
          "output_type": "display_data",
          "data": {
            "text/plain": [
              "<Figure size 432x288 with 1 Axes>"
            ],
            "image/png": "[encoded data removed]"
          },
          "metadata": {
            "needs_background": "light"
          }
        },
        {
          "output_type": "stream",
          "name": "stdout",
          "text": [
            "tensor([[ 0.3252, -0.4952,  0.0737,  0.6901,  0.5939,  0.3518, -0.1223,  0.1540,\n",
            "         -0.2826, -0.6333]], dtype=torch.float32, grad_fn=<AddmmBackward0>)\n",
            "Files already downloaded and verified\n"
          ]
        },
        {
          "output_type": "stream",
          "name": "stderr",
          "text": [
            "/usr/local/lib/python3.7/dist-packages/torch/utils/data/dataloader.py:490: UserWarning: This DataLoader will create 4 worker processes in total. Our suggested max number of worker in current system is 2, which is smaller than what this DataLoader is going to create. Please be aware that excessive worker creation might get DataLoader running slow or even freeze, lower the worker number to avoid potential slowness/freeze if necessary.\n",
            "  #               returns or see that `pin_memory_thread` died.\n"
          ]
        },
        {
          "output_type": "display_data",
          "data": {
            "text/plain": [
              "<Figure size 432x288 with 1 Axes>"
            ],
            "image/png": "[encoded data removed]"
          },
          "metadata": {
            "needs_background": "light"
          }
        },
        {
          "output_type": "stream",
          "name": "stdout",
          "text": [
            "[1,     1] loss: 0.124\n",
            "(512, 10)\n",
            "sim (10, 10)\n",
            "torch.float64\n"
          ]
        },
        {
          "output_type": "display_data",
          "data": {
            "text/plain": [
              "<Figure size 432x288 with 1 Axes>"
            ],
            "image/png": "[encoded data removed]"
          },
          "metadata": {
            "needs_background": "light"
          }
        },
        {
          "output_type": "stream",
          "name": "stdout",
          "text": [
            "tensor([[ 0.1853, -0.5297,  0.1337,  0.8662,  0.6780,  0.4261, -0.0858,  0.1898,\n",
            "         -0.4589, -0.7030]], dtype=torch.float32, grad_fn=<AddmmBackward0>)\n",
            "sim (10, 10)\n",
            "torch.float64\n"
          ]
        },
        {
          "output_type": "display_data",
          "data": {
            "text/plain": [
              "<Figure size 432x288 with 1 Axes>"
            ],
            "image/png": "[encoded data removed]"
          },
          "metadata": {
            "needs_background": "light"
          }
        },
        {
          "output_type": "stream",
          "name": "stdout",
          "text": [
            "tensor([[ 0.2736, -0.4343,  0.0758,  0.7813,  0.6840,  0.3359, -0.1875,  0.2255,\n",
            "         -0.2565, -0.7381]], dtype=torch.float32, grad_fn=<AddmmBackward0>)\n",
            "sim (10, 10)\n",
            "torch.float64\n"
          ]
        },
        {
          "output_type": "display_data",
          "data": {
            "text/plain": [
              "<Figure size 432x288 with 1 Axes>"
            ],
            "image/png": "[encoded data removed]"
          },
          "metadata": {
            "needs_background": "light"
          }
        },
        {
          "output_type": "stream",
          "name": "stdout",
          "text": [
            "tensor([[ 0.2203, -0.2504, -0.0509,  0.7449,  0.7635,  0.2992, -0.2429,  0.1889,\n",
            "         -0.3530, -0.5025]], dtype=torch.float32, grad_fn=<AddmmBackward0>)\n",
            "sim (10, 10)\n",
            "torch.float64\n"
          ]
        },
        {
          "output_type": "display_data",
          "data": {
            "text/plain": [
              "<Figure size 432x288 with 1 Axes>"
            ],
            "image/png": "[encoded data removed]"
          },
          "metadata": {
            "needs_background": "light"
          }
        },
        {
          "output_type": "stream",
          "name": "stdout",
          "text": [
            "tensor([[ 0.3028, -0.3393,  0.1557,  0.7719,  0.6338,  0.4244, -0.2632,  0.2589,\n",
            "         -0.1591, -0.7663]], dtype=torch.float32, grad_fn=<AddmmBackward0>)\n",
            "sim (10, 10)\n",
            "torch.float64\n"
          ]
        },
        {
          "output_type": "display_data",
          "data": {
            "text/plain": [
              "<Figure size 432x288 with 1 Axes>"
            ],
            "image/png": "[encoded data removed]"
          },
          "metadata": {
            "needs_background": "light"
          }
        },
        {
          "output_type": "stream",
          "name": "stdout",
          "text": [
            "tensor([[ 0.2004, -0.5410,  0.1762,  0.7957,  0.6218,  0.5013, -0.1471,  0.1875,\n",
            "         -0.2116, -0.7105]], dtype=torch.float32, grad_fn=<AddmmBackward0>)\n",
            "sim (10, 10)\n",
            "torch.float64\n"
          ]
        },
        {
          "output_type": "display_data",
          "data": {
            "text/plain": [
              "<Figure size 432x288 with 1 Axes>"
            ],
            "image/png": "[encoded data removed]"
          },
          "metadata": {
            "needs_background": "light"
          }
        },
        {
          "output_type": "stream",
          "name": "stdout",
          "text": [
            "tensor([[ 0.2155, -0.2681,  0.1188,  0.7954,  0.6315,  0.3831, -0.2995,  0.1954,\n",
            "         -0.0856, -0.7122]], dtype=torch.float32, grad_fn=<AddmmBackward0>)\n",
            "Files already downloaded and verified\n"
          ]
        },
        {
          "output_type": "stream",
          "name": "stderr",
          "text": [
            "/usr/local/lib/python3.7/dist-packages/torch/utils/data/dataloader.py:490: UserWarning: This DataLoader will create 4 worker processes in total. Our suggested max number of worker in current system is 2, which is smaller than what this DataLoader is going to create. Please be aware that excessive worker creation might get DataLoader running slow or even freeze, lower the worker number to avoid potential slowness/freeze if necessary.\n",
            "  #               returns or see that `pin_memory_thread` died.\n"
          ]
        },
        {
          "output_type": "display_data",
          "data": {
            "text/plain": [
              "<Figure size 432x288 with 1 Axes>"
            ],
            "image/png": "[encoded data removed]"
          },
          "metadata": {
            "needs_background": "light"
          }
        },
        {
          "output_type": "stream",
          "name": "stdout",
          "text": [
            "[1,     1] loss: 0.126\n",
            "(512, 10)\n",
            "sim (10, 10)\n",
            "torch.float64\n"
          ]
        },
        {
          "output_type": "display_data",
          "data": {
            "text/plain": [
              "<Figure size 432x288 with 1 Axes>"
            ],
            "image/png": "[encoded data removed]"
          },
          "metadata": {
            "needs_background": "light"
          }
        },
        {
          "output_type": "stream",
          "name": "stdout",
          "text": [
            "tensor([[ 0.3195, -0.4739,  0.1312,  0.8210,  0.6132,  0.4173, -0.1366,  0.1752,\n",
            "         -0.1773, -0.7373]], dtype=torch.float32, grad_fn=<AddmmBackward0>)\n",
            "sim (10, 10)\n",
            "torch.float64\n"
          ]
        },
        {
          "output_type": "display_data",
          "data": {
            "text/plain": [
              "<Figure size 432x288 with 1 Axes>"
            ],
            "image/png": "[encoded data removed]"
          },
          "metadata": {
            "needs_background": "light"
          }
        },
        {
          "output_type": "stream",
          "name": "stdout",
          "text": [
            "tensor([[ 0.2057, -0.4757,  0.1745,  0.8426,  0.6363,  0.3987, -0.0973,  0.2942,\n",
            "         -0.4477, -0.6345]], dtype=torch.float32, grad_fn=<AddmmBackward0>)\n",
            "sim (10, 10)\n",
            "torch.float64\n"
          ]
        },
        {
          "output_type": "display_data",
          "data": {
            "text/plain": [
              "<Figure size 432x288 with 1 Axes>"
            ],
            "image/png": "[encoded data removed]"
          },
          "metadata": {
            "needs_background": "light"
          }
        },
        {
          "output_type": "stream",
          "name": "stdout",
          "text": [
            "tensor([[ 0.3597, -0.4123,  0.0608,  0.6849,  0.6775,  0.3727, -0.2183,  0.1127,\n",
            "         -0.1942, -0.6764]], dtype=torch.float32, grad_fn=<AddmmBackward0>)\n",
            "sim (10, 10)\n",
            "torch.float64\n"
          ]
        },
        {
          "output_type": "display_data",
          "data": {
            "text/plain": [
              "<Figure size 432x288 with 1 Axes>"
            ],
            "image/png": "[encoded data removed]"
          },
          "metadata": {
            "needs_background": "light"
          }
        },
        {
          "output_type": "stream",
          "name": "stdout",
          "text": [
            "tensor([[ 0.2173, -0.4981,  0.1260,  0.8620,  0.6360,  0.4470, -0.0773,  0.2494,\n",
            "         -0.2108, -0.7003]], dtype=torch.float32, grad_fn=<AddmmBackward0>)\n",
            "sim (10, 10)\n",
            "torch.float64\n"
          ]
        },
        {
          "output_type": "display_data",
          "data": {
            "text/plain": [
              "<Figure size 432x288 with 1 Axes>"
            ],
            "image/png": "[encoded data removed]"
          },
          "metadata": {
            "needs_background": "light"
          }
        },
        {
          "output_type": "stream",
          "name": "stdout",
          "text": [
            "tensor([[ 0.2619, -0.5621,  0.1047,  0.6796,  0.6065,  0.4255,  0.0329,  0.2009,\n",
            "         -0.2959, -0.7061]], dtype=torch.float32, grad_fn=<AddmmBackward0>)\n",
            "sim (10, 10)\n",
            "torch.float64\n"
          ]
        },
        {
          "output_type": "display_data",
          "data": {
            "text/plain": [
              "<Figure size 432x288 with 1 Axes>"
            ],
            "image/png": "[encoded data removed]"
          },
          "metadata": {
            "needs_background": "light"
          }
        },
        {
          "output_type": "stream",
          "name": "stdout",
          "text": [
            "tensor([[ 0.2111, -0.5695,  0.1632,  0.7980,  0.7138,  0.3821, -0.0958,  0.2846,\n",
            "         -0.3961, -0.7200]], dtype=torch.float32, grad_fn=<AddmmBackward0>)\n",
            "sim (10, 10)\n",
            "torch.float64\n"
          ]
        },
        {
          "output_type": "display_data",
          "data": {
            "text/plain": [
              "<Figure size 432x288 with 1 Axes>"
            ],
            "image/png": "[encoded data removed]"
          },
          "metadata": {
            "needs_background": "light"
          }
        },
        {
          "output_type": "stream",
          "name": "stdout",
          "text": [
            "tensor([[ 0.3604, -0.3842,  0.0947,  0.8164,  0.6485,  0.4318, -0.1626,  0.1629,\n",
            "         -0.2888, -0.7095]], dtype=torch.float32, grad_fn=<AddmmBackward0>)\n",
            "sim (10, 10)\n",
            "torch.float64\n"
          ]
        },
        {
          "output_type": "display_data",
          "data": {
            "text/plain": [
              "<Figure size 432x288 with 1 Axes>"
            ],
            "image/png": "[encoded data removed]"
          },
          "metadata": {
            "needs_background": "light"
          }
        },
        {
          "output_type": "stream",
          "name": "stdout",
          "text": [
            "tensor([[ 0.3445, -0.5166,  0.2162,  0.6798,  0.5058,  0.4146, -0.1034,  0.2282,\n",
            "         -0.2153, -0.7510]], dtype=torch.float32, grad_fn=<AddmmBackward0>)\n",
            "Finished Training\n"
          ]
        }
      ]
    },
    {
      "cell_type": "code",
      "source": [
        ""
      ],
      "metadata": {
        "id": "Tm3fkkItBt0T"
      },
      "execution_count": null,
      "outputs": []
    },
    {
      "cell_type": "code",
      "source": [
        ""
      ],
      "metadata": {
        "id": "ABkHkQJbBt32"
      },
      "execution_count": null,
      "outputs": []
    },
    {
      "cell_type": "markdown",
      "source": [
        "## Clone and checkout git repo"
      ],
      "metadata": {
        "id": "tR738HYf19cS"
      }
    },
    {
      "cell_type": "code",
      "execution_count": null,
      "metadata": {
        "colab": {
          "base_uri": "https://localhost:8080/"
        },
        "id": "RYLj9pxwjq4E",
        "outputId": "d2f2baf2-4531-44ee-bcb6-e76ed1cbdf5d"
      },
      "outputs": [
        {
          "output_type": "stream",
          "name": "stdout",
          "text": [
            "Cloning into 'Cost-Free-Incremental-Learning'...\n",
            "remote: Enumerating objects: 103, done.\u001b[K\n",
            "remote: Counting objects: 100% (2/2), done.\u001b[K\n",
            "remote: Compressing objects: 100% (2/2), done.\u001b[K\n",
            "remote: Total 103 (delta 0), reused 0 (delta 0), pack-reused 101\u001b[K\n",
            "Receiving objects: 100% (103/103), 95.70 KiB | 1.99 MiB/s, done.\n",
            "Resolving deltas: 100% (26/26), done.\n",
            "/content/Cost-Free-Incremental-Learning\n",
            "Fetching origin\n"
          ]
        }
      ],
      "source": [
        "!git clone https://github.com/agrudkow/Cost-Free-Incremental-Learning.git\n",
        "%cd Cost-Free-Incremental-Learning\n",
        "!git fetch --all"
      ]
    },
    {
      "cell_type": "markdown",
      "source": [
        "## Install requirements"
      ],
      "metadata": {
        "id": "E8yIjQvS2CUJ"
      }
    },
    {
      "cell_type": "code",
      "source": [
        "!pip install -r requirements.txt"
      ],
      "metadata": {
        "colab": {
          "base_uri": "https://localhost:8080/",
          "height": 1000
        },
        "id": "Lg9kWrbu1w5M",
        "outputId": "1653e29c-96a5-4ef6-b796-03c6296ff94a"
      },
      "execution_count": null,
      "outputs": [
        {
          "output_type": "stream",
          "name": "stdout",
          "text": [
            "Collecting absl-py~=0.9.0\n",
            "  Downloading absl-py-0.9.0.tar.gz (104 kB)\n",
            "\u001b[K     |████████████████████████████████| 104 kB 6.8 MB/s \n",
            "\u001b[?25hCollecting cachetools~=4.0.0\n",
            "  Downloading cachetools-4.0.0-py3-none-any.whl (10 kB)\n",
            "Collecting certifi~=2019.11.28\n",
            "  Downloading certifi-2019.11.28-py2.py3-none-any.whl (156 kB)\n",
            "\u001b[K     |████████████████████████████████| 156 kB 36.0 MB/s \n",
            "\u001b[?25hRequirement already satisfied: chardet~=3.0.4 in /usr/local/lib/python3.7/dist-packages (from -r requirements.txt (line 4)) (3.0.4)\n",
            "Requirement already satisfied: Cython~=0.29.15 in /usr/local/lib/python3.7/dist-packages (from -r requirements.txt (line 5)) (0.29.28)\n",
            "Collecting google-auth~=1.11.2\n",
            "  Downloading google_auth-1.11.3-py2.py3-none-any.whl (76 kB)\n",
            "\u001b[K     |████████████████████████████████| 76 kB 4.9 MB/s \n",
            "\u001b[?25hRequirement already satisfied: google-auth-oauthlib~=0.4.1 in /usr/local/lib/python3.7/dist-packages (from -r requirements.txt (line 7)) (0.4.6)\n",
            "Requirement already satisfied: googledrivedownloader~=0.4 in /usr/local/lib/python3.7/dist-packages (from -r requirements.txt (line 8)) (0.4)\n",
            "Collecting grpcio~=1.27.2\n",
            "  Downloading grpcio-1.27.2-cp37-cp37m-manylinux2010_x86_64.whl (2.7 MB)\n",
            "\u001b[K     |████████████████████████████████| 2.7 MB 47.4 MB/s \n",
            "\u001b[?25hRequirement already satisfied: idna~=2.8 in /usr/local/lib/python3.7/dist-packages (from -r requirements.txt (line 10)) (2.10)\n",
            "Collecting Markdown~=3.2.1\n",
            "  Downloading Markdown-3.2.2-py3-none-any.whl (88 kB)\n",
            "\u001b[K     |████████████████████████████████| 88 kB 7.3 MB/s \n",
            "\u001b[?25hCollecting numpy~=1.17.3\n",
            "  Downloading numpy-1.17.5-cp37-cp37m-manylinux1_x86_64.whl (20.0 MB)\n",
            "\u001b[K     |████████████████████████████████| 20.0 MB 1.6 MB/s \n",
            "\u001b[?25hCollecting oauthlib~=3.1.0\n",
            "  Downloading oauthlib-3.1.1-py2.py3-none-any.whl (146 kB)\n",
            "\u001b[K     |████████████████████████████████| 146 kB 43.3 MB/s \n",
            "\u001b[?25hCollecting Pillow~=6.1.0\n",
            "  Downloading Pillow-6.1.0-cp37-cp37m-manylinux1_x86_64.whl (2.1 MB)\n",
            "\u001b[K     |████████████████████████████████| 2.1 MB 30.8 MB/s \n",
            "\u001b[?25hCollecting protobuf~=3.11.3\n",
            "  Downloading protobuf-3.11.3-cp37-cp37m-manylinux1_x86_64.whl (1.3 MB)\n",
            "\u001b[K     |████████████████████████████████| 1.3 MB 43.4 MB/s \n",
            "\u001b[?25hRequirement already satisfied: pyasn1~=0.4.8 in /usr/local/lib/python3.7/dist-packages (from -r requirements.txt (line 16)) (0.4.8)\n",
            "Requirement already satisfied: pyasn1-modules~=0.2.8 in /usr/local/lib/python3.7/dist-packages (from -r requirements.txt (line 17)) (0.2.8)\n",
            "Collecting quadprog~=0.1.7\n",
            "  Downloading quadprog-0.1.11.tar.gz (121 kB)\n",
            "\u001b[K     |████████████████████████████████| 121 kB 44.3 MB/s \n",
            "\u001b[?25h  Installing build dependencies ... \u001b[?25l\u001b[?25hdone\n",
            "  Getting requirements to build wheel ... \u001b[?25l\u001b[?25hdone\n",
            "    Preparing wheel metadata ... \u001b[?25l\u001b[?25hdone\n",
            "Collecting requests~=2.22.0\n",
            "  Downloading requests-2.22.0-py2.py3-none-any.whl (57 kB)\n",
            "\u001b[K     |████████████████████████████████| 57 kB 4.7 MB/s \n",
            "\u001b[?25hRequirement already satisfied: requests-oauthlib~=1.3.0 in /usr/local/lib/python3.7/dist-packages (from -r requirements.txt (line 20)) (1.3.1)\n",
            "Requirement already satisfied: rsa~=4.0 in /usr/local/lib/python3.7/dist-packages (from -r requirements.txt (line 21)) (4.8)\n",
            "Collecting six~=1.14.0\n",
            "  Downloading six-1.14.0-py2.py3-none-any.whl (10 kB)\n",
            "Collecting tensorboard~=2.0.1\n",
            "  Downloading tensorboard-2.0.2-py3-none-any.whl (3.8 MB)\n",
            "\u001b[K     |████████████████████████████████| 3.8 MB 32.5 MB/s \n",
            "\u001b[?25hCollecting torch~=1.3.1\n",
            "  Downloading torch-1.3.1-cp37-cp37m-manylinux1_x86_64.whl (734.6 MB)\n",
            "\u001b[K     |████████████████████████████████| 734.6 MB 19 kB/s \n",
            "\u001b[?25hCollecting torchvision~=0.4.2\n",
            "  Downloading torchvision-0.4.2-cp37-cp37m-manylinux1_x86_64.whl (10.2 MB)\n",
            "\u001b[K     |████████████████████████████████| 10.2 MB 24.6 MB/s \n",
            "\u001b[?25hCollecting urllib3~=1.25.8\n",
            "  Downloading urllib3-1.25.11-py2.py3-none-any.whl (127 kB)\n",
            "\u001b[K     |████████████████████████████████| 127 kB 49.8 MB/s \n",
            "\u001b[?25hRequirement already satisfied: Werkzeug~=1.0.0 in /usr/local/lib/python3.7/dist-packages (from -r requirements.txt (line 27)) (1.0.1)\n",
            "Collecting rsa~=4.0\n",
            "  Downloading rsa-4.0-py2.py3-none-any.whl (38 kB)\n",
            "Requirement already satisfied: setuptools>=40.3.0 in /usr/local/lib/python3.7/dist-packages (from google-auth~=1.11.2->-r requirements.txt (line 6)) (57.4.0)\n",
            "Requirement already satisfied: importlib-metadata in /usr/local/lib/python3.7/dist-packages (from Markdown~=3.2.1->-r requirements.txt (line 11)) (4.11.3)\n",
            "Collecting idna~=2.8\n",
            "  Downloading idna-2.8-py2.py3-none-any.whl (58 kB)\n",
            "\u001b[K     |████████████████████████████████| 58 kB 5.8 MB/s \n",
            "\u001b[?25hRequirement already satisfied: wheel>=0.26 in /usr/local/lib/python3.7/dist-packages (from tensorboard~=2.0.1->-r requirements.txt (line 23)) (0.37.1)\n",
            "Requirement already satisfied: zipp>=0.5 in /usr/local/lib/python3.7/dist-packages (from importlib-metadata->Markdown~=3.2.1->-r requirements.txt (line 11)) (3.8.0)\n",
            "Requirement already satisfied: typing-extensions>=3.6.4 in /usr/local/lib/python3.7/dist-packages (from importlib-metadata->Markdown~=3.2.1->-r requirements.txt (line 11)) (4.2.0)\n",
            "Building wheels for collected packages: absl-py, quadprog\n",
            "  Building wheel for absl-py (setup.py) ... \u001b[?25l\u001b[?25hdone\n",
            "  Created wheel for absl-py: filename=absl_py-0.9.0-py3-none-any.whl size=121939 sha256=34cc31c85121597b2a496ac0d9c394e5712e52d98679c56b619ef87f465ce975\n",
            "  Stored in directory: /root/.cache/pip/wheels/cc/af/1a/498a24d0730ef484019e007bb9e8cef3ac00311a672c049a3e\n",
            "  Building wheel for quadprog (PEP 517) ... \u001b[?25l\u001b[?25hdone\n",
            "  Created wheel for quadprog: filename=quadprog-0.1.11-cp37-cp37m-linux_x86_64.whl size=290749 sha256=81d3b6c8fdeca76e2f45891994eddfab6bbd0725a6f13cac988410131f1ecf75\n",
            "  Stored in directory: /root/.cache/pip/wheels/4a/4e/d7/41034ea11aeef1266df3cae546116cb6094e955c41ae3e2589\n",
            "Successfully built absl-py quadprog\n",
            "Installing collected packages: urllib3, idna, certifi, six, rsa, requests, oauthlib, cachetools, numpy, google-auth, torch, protobuf, Pillow, Markdown, grpcio, absl-py, torchvision, tensorboard, quadprog\n",
            "  Attempting uninstall: urllib3\n",
            "    Found existing installation: urllib3 1.24.3\n",
            "    Uninstalling urllib3-1.24.3:\n",
            "      Successfully uninstalled urllib3-1.24.3\n",
            "  Attempting uninstall: idna\n",
            "    Found existing installation: idna 2.10\n",
            "    Uninstalling idna-2.10:\n",
            "      Successfully uninstalled idna-2.10\n",
            "  Attempting uninstall: certifi\n",
            "    Found existing installation: certifi 2021.10.8\n",
            "    Uninstalling certifi-2021.10.8:\n",
            "      Successfully uninstalled certifi-2021.10.8\n",
            "  Attempting uninstall: six\n",
            "    Found existing installation: six 1.15.0\n",
            "    Uninstalling six-1.15.0:\n",
            "      Successfully uninstalled six-1.15.0\n",
            "  Attempting uninstall: rsa\n",
            "    Found existing installation: rsa 4.8\n",
            "    Uninstalling rsa-4.8:\n",
            "      Successfully uninstalled rsa-4.8\n",
            "  Attempting uninstall: requests\n",
            "    Found existing installation: requests 2.23.0\n",
            "    Uninstalling requests-2.23.0:\n",
            "      Successfully uninstalled requests-2.23.0\n",
            "  Attempting uninstall: oauthlib\n",
            "    Found existing installation: oauthlib 3.2.0\n",
            "    Uninstalling oauthlib-3.2.0:\n",
            "      Successfully uninstalled oauthlib-3.2.0\n",
            "  Attempting uninstall: cachetools\n",
            "    Found existing installation: cachetools 4.2.4\n",
            "    Uninstalling cachetools-4.2.4:\n",
            "      Successfully uninstalled cachetools-4.2.4\n",
            "  Attempting uninstall: numpy\n",
            "    Found existing installation: numpy 1.21.6\n",
            "    Uninstalling numpy-1.21.6:\n",
            "      Successfully uninstalled numpy-1.21.6\n",
            "  Attempting uninstall: google-auth\n",
            "    Found existing installation: google-auth 1.35.0\n",
            "    Uninstalling google-auth-1.35.0:\n",
            "      Successfully uninstalled google-auth-1.35.0\n",
            "  Attempting uninstall: torch\n",
            "    Found existing installation: torch 1.11.0+cu113\n",
            "    Uninstalling torch-1.11.0+cu113:\n",
            "      Successfully uninstalled torch-1.11.0+cu113\n",
            "  Attempting uninstall: protobuf\n",
            "    Found existing installation: protobuf 3.17.3\n",
            "    Uninstalling protobuf-3.17.3:\n",
            "      Successfully uninstalled protobuf-3.17.3\n",
            "  Attempting uninstall: Pillow\n",
            "    Found existing installation: Pillow 7.1.2\n",
            "    Uninstalling Pillow-7.1.2:\n",
            "      Successfully uninstalled Pillow-7.1.2\n",
            "  Attempting uninstall: Markdown\n",
            "    Found existing installation: Markdown 3.3.6\n",
            "    Uninstalling Markdown-3.3.6:\n",
            "      Successfully uninstalled Markdown-3.3.6\n",
            "  Attempting uninstall: grpcio\n",
            "    Found existing installation: grpcio 1.44.0\n",
            "    Uninstalling grpcio-1.44.0:\n",
            "      Successfully uninstalled grpcio-1.44.0\n",
            "  Attempting uninstall: absl-py\n",
            "    Found existing installation: absl-py 1.0.0\n",
            "    Uninstalling absl-py-1.0.0:\n",
            "      Successfully uninstalled absl-py-1.0.0\n",
            "  Attempting uninstall: torchvision\n",
            "    Found existing installation: torchvision 0.12.0+cu113\n",
            "    Uninstalling torchvision-0.12.0+cu113:\n",
            "      Successfully uninstalled torchvision-0.12.0+cu113\n",
            "  Attempting uninstall: tensorboard\n",
            "    Found existing installation: tensorboard 2.8.0\n",
            "    Uninstalling tensorboard-2.8.0:\n",
            "      Successfully uninstalled tensorboard-2.8.0\n",
            "\u001b[31mERROR: pip's dependency resolver does not currently take into account all the packages that are installed. This behaviour is the source of the following dependency conflicts.\n",
            "tensorflow 2.8.0 requires tf-estimator-nightly==2.8.0.dev2021122109, which is not installed.\n",
            "torchtext 0.12.0 requires torch==1.11.0, but you have torch 1.3.1 which is incompatible.\n",
            "torchaudio 0.11.0+cu113 requires torch==1.11.0, but you have torch 1.3.1 which is incompatible.\n",
            "tensorflow 2.8.0 requires numpy>=1.20, but you have numpy 1.17.5 which is incompatible.\n",
            "tensorflow 2.8.0 requires tensorboard<2.9,>=2.8, but you have tensorboard 2.0.2 which is incompatible.\n",
            "tensorflow-metadata 1.7.0 requires protobuf<4,>=3.13, but you have protobuf 3.11.3 which is incompatible.\n",
            "tables 3.7.0 requires numpy>=1.19.0, but you have numpy 1.17.5 which is incompatible.\n",
            "pymc3 3.11.4 requires cachetools>=4.2.1, but you have cachetools 4.0.0 which is incompatible.\n",
            "pydata-google-auth 1.4.0 requires google-auth<3.0dev,>=1.25.0; python_version >= \"3.6\", but you have google-auth 1.11.3 which is incompatible.\n",
            "kapre 0.3.7 requires numpy>=1.18.5, but you have numpy 1.17.5 which is incompatible.\n",
            "jaxlib 0.3.2+cuda11.cudnn805 requires numpy>=1.19, but you have numpy 1.17.5 which is incompatible.\n",
            "jax 0.3.4 requires numpy>=1.19, but you have numpy 1.17.5 which is incompatible.\n",
            "googleapis-common-protos 1.56.0 requires protobuf>=3.12.0, but you have protobuf 3.11.3 which is incompatible.\n",
            "google-colab 1.0.0 requires google-auth>=1.17.2, but you have google-auth 1.11.3 which is incompatible.\n",
            "google-colab 1.0.0 requires requests~=2.23.0, but you have requests 2.22.0 which is incompatible.\n",
            "google-colab 1.0.0 requires six~=1.15.0, but you have six 1.14.0 which is incompatible.\n",
            "google-api-python-client 1.12.11 requires google-auth<3dev,>=1.16.0; python_version >= \"3\", but you have google-auth 1.11.3 which is incompatible.\n",
            "google-api-core 1.31.5 requires google-auth<2.0dev,>=1.25.0, but you have google-auth 1.11.3 which is incompatible.\n",
            "google-api-core 1.31.5 requires protobuf>=3.12.0; python_version > \"3\", but you have protobuf 3.11.3 which is incompatible.\n",
            "datascience 0.10.6 requires folium==0.2.1, but you have folium 0.8.3 which is incompatible.\n",
            "bokeh 2.3.3 requires pillow>=7.1.0, but you have pillow 6.1.0 which is incompatible.\n",
            "albumentations 0.1.12 requires imgaug<0.2.7,>=0.2.5, but you have imgaug 0.2.9 which is incompatible.\u001b[0m\n",
            "Successfully installed Markdown-3.2.2 Pillow-6.1.0 absl-py-0.9.0 cachetools-4.0.0 certifi-2019.11.28 google-auth-1.11.3 grpcio-1.27.2 idna-2.8 numpy-1.17.5 oauthlib-3.1.1 protobuf-3.11.3 quadprog-0.1.11 requests-2.22.0 rsa-4.0 six-1.14.0 tensorboard-2.0.2 torch-1.3.1 torchvision-0.4.2 urllib3-1.25.11\n"
          ]
        },
        {
          "output_type": "display_data",
          "data": {
            "application/vnd.colab-display-data+json": {
              "pip_warning": {
                "packages": [
                  "PIL",
                  "google",
                  "numpy",
                  "six",
                  "torch",
                  "torchvision"
                ]
              }
            }
          },
          "metadata": {}
        }
      ]
    },
    {
      "cell_type": "markdown",
      "source": [
        "## Run model"
      ],
      "metadata": {
        "id": "SDmsrvDG2GDt"
      }
    },
    {
      "cell_type": "code",
      "source": [
        "import os\n",
        "import pathlib\n",
        "\n",
        "os.environ['HOME_PATH'] = str(pathlib.Path().resolve())"
      ],
      "metadata": {
        "id": "CHeMC44m-BkH"
      },
      "execution_count": null,
      "outputs": []
    },
    {
      "cell_type": "code",
      "source": [
        "!python main.py \\\n",
        "  --model agem \\\n",
        "  --dataset seq-mnist \\\n",
        "  --buffer_size 5120 \\\n",
        "  --load_best_args"
      ],
      "metadata": {
        "colab": {
          "base_uri": "https://localhost:8080/"
        },
        "id": "H12QPcvsn0bq",
        "outputId": "8344158d-872e-4723-db31-78d568fbbf93"
      },
      "execution_count": null,
      "outputs": [
        {
          "output_type": "stream",
          "name": "stdout",
          "text": [
            "Namespace(batch_size=10, buffer_size=5120, csv_log=False, dataset='seq-mnist', load_best_args=True, lr=0.1, minibatch_size=128, model='agem', n_epochs=1, notes=None, seed=None, tensorboard=False, validation=False)\n",
            "Downloading http://yann.lecun.com/exdb/mnist/train-images-idx3-ubyte.gz to ./data/MNIST/MyMNIST/raw/train-images-idx3-ubyte.gz\n",
            "9920512it [00:00, 33479592.77it/s]                 \n",
            "Extracting ./data/MNIST/MyMNIST/raw/train-images-idx3-ubyte.gz to ./data/MNIST/MyMNIST/raw\n",
            "Downloading http://yann.lecun.com/exdb/mnist/train-labels-idx1-ubyte.gz to ./data/MNIST/MyMNIST/raw/train-labels-idx1-ubyte.gz\n",
            "32768it [00:00, 882897.92it/s]\n",
            "Extracting ./data/MNIST/MyMNIST/raw/train-labels-idx1-ubyte.gz to ./data/MNIST/MyMNIST/raw\n",
            "Downloading http://yann.lecun.com/exdb/mnist/t10k-images-idx3-ubyte.gz to ./data/MNIST/MyMNIST/raw/t10k-images-idx3-ubyte.gz\n",
            "1654784it [00:00, 17992003.27it/s]\n",
            "Extracting ./data/MNIST/MyMNIST/raw/t10k-images-idx3-ubyte.gz to ./data/MNIST/MyMNIST/raw\n",
            "Downloading http://yann.lecun.com/exdb/mnist/t10k-labels-idx1-ubyte.gz to ./data/MNIST/MyMNIST/raw/t10k-labels-idx1-ubyte.gz\n",
            "8192it [00:00, 227234.92it/s]\n",
            "Extracting ./data/MNIST/MyMNIST/raw/t10k-labels-idx1-ubyte.gz to ./data/MNIST/MyMNIST/raw\n",
            "Processing...\n",
            "Done!\n",
            "Downloading http://yann.lecun.com/exdb/mnist/train-images-idx3-ubyte.gz to ./data/MNIST/MNIST/raw/train-images-idx3-ubyte.gz\n",
            "9920512it [00:00, 37699114.06it/s]                 \n",
            "Extracting ./data/MNIST/MNIST/raw/train-images-idx3-ubyte.gz to ./data/MNIST/MNIST/raw\n",
            "Downloading http://yann.lecun.com/exdb/mnist/train-labels-idx1-ubyte.gz to ./data/MNIST/MNIST/raw/train-labels-idx1-ubyte.gz\n",
            "32768it [00:00, 783788.91it/s]\n",
            "Extracting ./data/MNIST/MNIST/raw/train-labels-idx1-ubyte.gz to ./data/MNIST/MNIST/raw\n",
            "Downloading http://yann.lecun.com/exdb/mnist/t10k-images-idx3-ubyte.gz to ./data/MNIST/MNIST/raw/t10k-images-idx3-ubyte.gz\n",
            "1654784it [00:00, 15653639.35it/s]                 \n",
            "Extracting ./data/MNIST/MNIST/raw/t10k-images-idx3-ubyte.gz to ./data/MNIST/MNIST/raw\n",
            "Downloading http://yann.lecun.com/exdb/mnist/t10k-labels-idx1-ubyte.gz to ./data/MNIST/MNIST/raw/t10k-labels-idx1-ubyte.gz\n",
            "8192it [00:00, 154892.91it/s]\n",
            "Extracting ./data/MNIST/MNIST/raw/t10k-labels-idx1-ubyte.gz to ./data/MNIST/MNIST/raw\n",
            "Processing...\n",
            "Done!\n",
            "\n",
            "[ 05-03 | 08:38 ] Task 1 | epoch 0: |██████████████████████████████████████████████████| loss: 0.00030346\n",
            "Accuracy for 1 task(s): \t [Class-IL]: 99.91 % \t [Task-IL]: 99.91 %\n",
            "\n",
            "[ 05-03 | 08:38 ] Task 2 | epoch 0: |██████████████████████████████████████████████████| loss: 0.00068378\n",
            "Accuracy for 2 task(s): \t [Class-IL]: 95.12 % \t [Task-IL]: 99.51 %\n",
            "\n",
            "[ 05-03 | 08:39 ] Task 3 | epoch 0: |███████████████████████████┈┈┈┈┈┈┈┈┈┈┈┈┈┈┈┈┈┈┈┈┈┈┈| loss: 0.06553938Traceback (most recent call last):\n",
            "  File \"main.py\", line 74, in <module>\n",
            "    main()\n",
            "  File \"main.py\", line 67, in main\n",
            "    train(model, dataset, args)\n",
            "  File \"/content/Cost-Free-Incremental-Learning/utils/training.py\", line 324, in train\n",
            "    for i, data in enumerate(train_loader):\n",
            "  File \"/usr/local/lib/python3.7/dist-packages/torch/utils/data/dataloader.py\", line 804, in __next__\n",
            "    idx, data = self._get_data()\n",
            "  File \"/usr/local/lib/python3.7/dist-packages/torch/utils/data/dataloader.py\", line 771, in _get_data\n",
            "    success, data = self._try_get_data()\n",
            "  File \"/usr/local/lib/python3.7/dist-packages/torch/utils/data/dataloader.py\", line 724, in _try_get_data\n",
            "    data = self._data_queue.get(timeout=timeout)\n",
            "  File \"/usr/lib/python3.7/multiprocessing/queues.py\", line 113, in get\n",
            "    return _ForkingPickler.loads(res)\n",
            "  File \"/usr/local/lib/python3.7/dist-packages/torch/multiprocessing/reductions.py\", line 294, in rebuild_storage_fd\n",
            "    fd = df.detach()\n",
            "  File \"/usr/lib/python3.7/multiprocessing/resource_sharer.py\", line 57, in detach\n",
            "    with _resource_sharer.get_connection(self._id) as conn:\n",
            "  File \"/usr/lib/python3.7/multiprocessing/resource_sharer.py\", line 87, in get_connection\n",
            "    c = Client(address, authkey=process.current_process().authkey)\n",
            "  File \"/usr/lib/python3.7/multiprocessing/connection.py\", line 498, in Client\n",
            "    answer_challenge(c, authkey)\n",
            "  File \"/usr/lib/python3.7/multiprocessing/connection.py\", line 747, in answer_challenge\n",
            "    response = connection.recv_bytes(256)        # reject large message\n",
            "  File \"/usr/lib/python3.7/multiprocessing/connection.py\", line 216, in recv_bytes\n",
            "    buf = self._recv_bytes(maxlength)\n",
            "  File \"/usr/lib/python3.7/multiprocessing/connection.py\", line 407, in _recv_bytes\n",
            "    buf = self._recv(4)\n",
            "  File \"/usr/lib/python3.7/multiprocessing/connection.py\", line 379, in _recv\n",
            "    chunk = read(handle, remaining)\n",
            "KeyboardInterrupt\n"
          ]
        }
      ]
    },
    {
      "cell_type": "code",
      "source": [
        "/content/data/cifar-10-batches-py/data_batch_1/\n"
      ],
      "metadata": {
        "colab": {
          "base_uri": "https://localhost:8080/"
        },
        "id": "YyOPAdZFEDFu",
        "outputId": "7da54720-d993-49b5-96ba-2435127f5ea7"
      },
      "execution_count": null,
      "outputs": [
        {
          "output_type": "stream",
          "name": "stdout",
          "text": [
            "[Errno 20] Not a directory: '/content/data/cifar-10-batches-py/data_batch_1/'\n",
            "/content/Cost-Free-Incremental-Learning\n"
          ]
        }
      ]
    },
    {
      "cell_type": "code",
      "source": [
        "from datasets.utils.continual_dataset import ContinualDataset"
      ],
      "metadata": {
        "id": "Pc6RM7QVGn2u"
      },
      "execution_count": null,
      "outputs": []
    },
    {
      "cell_type": "code",
      "source": [
        ""
      ],
      "metadata": {
        "id": "Z7_qMBtvF_Cn"
      },
      "execution_count": null,
      "outputs": []
    }
  ]
}