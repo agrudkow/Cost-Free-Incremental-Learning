{
  "nbformat": 4,
  "nbformat_minor": 0,
  "metadata": {
    "colab": {
      "name": "cfil_colab.ipynb",
      "provenance": [],
      "collapsed_sections": [],
      "toc_visible": true,
      "authorship_tag": "ABX9TyNlF4QKnMGHIT81HpASmhr1",
      "include_colab_link": true
    },
    "kernelspec": {
      "name": "python3",
      "display_name": "Python 3"
    },
    "language_info": {
      "name": "python"
    }
  },
  "cells": [
    {
      "cell_type": "markdown",
      "metadata": {
        "id": "view-in-github",
        "colab_type": "text"
      },
      "source": [
        "<a href=\"https://colab.research.google.com/github/agrudkow/Cost-Free-Incremental-Learning/blob/main/notebooks/cfil_colab.ipynb\" target=\"_parent\"><img src=\"https://colab.research.google.com/assets/colab-badge.svg\" alt=\"Open In Colab\"/></a>"
      ]
    },
    {
      "cell_type": "markdown",
      "source": [
        "# Cost Free Incremental Learning"
      ],
      "metadata": {
        "id": "96FDGHgk14ig"
      }
    },
    {
      "cell_type": "markdown",
      "source": [
        "## Clone and checkout git repo"
      ],
      "metadata": {
        "id": "tR738HYf19cS"
      }
    },
    {
      "cell_type": "code",
      "execution_count": null,
      "metadata": {
        "colab": {
          "base_uri": "https://localhost:8080/"
        },
        "id": "RYLj9pxwjq4E",
        "outputId": "fa09f0c9-0823-4b39-f976-cdcf5cecd3c4"
      },
      "outputs": [
        {
          "output_type": "stream",
          "name": "stdout",
          "text": [
            "Cloning into 'Cost-Free-Incremental-Learning'...\n",
            "remote: Enumerating objects: 99, done.\u001b[K\n",
            "remote: Counting objects: 100% (99/99), done.\u001b[K\n",
            "remote: Compressing objects: 100% (87/87), done.\u001b[K\n",
            "remote: Total 99 (delta 20), reused 40 (delta 9), pack-reused 0\u001b[K\n",
            "Unpacking objects: 100% (99/99), done.\n",
            "/content/Cost-Free-Incremental-Learning\n",
            "Fetching origin\n"
          ]
        }
      ],
      "source": [
        "!git clone https://github.com/agrudkow/Cost-Free-Incremental-Learning.git\n",
        "%cd Cost-Free-Incremental-Learning\n",
        "!git fetch --all"
      ]
    },
    {
      "cell_type": "markdown",
      "source": [
        "## Install requirements"
      ],
      "metadata": {
        "id": "E8yIjQvS2CUJ"
      }
    },
    {
      "cell_type": "code",
      "source": [
        "!pip install -r requirements.txt"
      ],
      "metadata": {
        "colab": {
          "base_uri": "https://localhost:8080/"
        },
        "id": "Lg9kWrbu1w5M",
        "outputId": "87a61e90-e272-47cc-928c-c6724791e6f4"
      },
      "execution_count": null,
      "outputs": [
        {
          "output_type": "stream",
          "name": "stdout",
          "text": [
            "Requirement already satisfied: absl-py~=0.9.0 in /usr/local/lib/python3.7/dist-packages (from -r requirements.txt (line 1)) (0.9.0)\n",
            "Requirement already satisfied: cachetools~=4.0.0 in /usr/local/lib/python3.7/dist-packages (from -r requirements.txt (line 2)) (4.0.0)\n",
            "Requirement already satisfied: certifi~=2019.11.28 in /usr/local/lib/python3.7/dist-packages (from -r requirements.txt (line 3)) (2019.11.28)\n",
            "Requirement already satisfied: chardet~=3.0.4 in /usr/local/lib/python3.7/dist-packages (from -r requirements.txt (line 4)) (3.0.4)\n",
            "Requirement already satisfied: Cython~=0.29.15 in /usr/local/lib/python3.7/dist-packages (from -r requirements.txt (line 5)) (0.29.28)\n",
            "Requirement already satisfied: google-auth~=1.11.2 in /usr/local/lib/python3.7/dist-packages (from -r requirements.txt (line 6)) (1.11.3)\n",
            "Requirement already satisfied: google-auth-oauthlib~=0.4.1 in /usr/local/lib/python3.7/dist-packages (from -r requirements.txt (line 7)) (0.4.6)\n",
            "Requirement already satisfied: googledrivedownloader~=0.4 in /usr/local/lib/python3.7/dist-packages (from -r requirements.txt (line 8)) (0.4)\n",
            "Requirement already satisfied: grpcio~=1.27.2 in /usr/local/lib/python3.7/dist-packages (from -r requirements.txt (line 9)) (1.27.2)\n",
            "Requirement already satisfied: idna~=2.8 in /usr/local/lib/python3.7/dist-packages (from -r requirements.txt (line 10)) (2.8)\n",
            "Requirement already satisfied: Markdown~=3.2.1 in /usr/local/lib/python3.7/dist-packages (from -r requirements.txt (line 11)) (3.2.2)\n",
            "Requirement already satisfied: numpy~=1.17.3 in /usr/local/lib/python3.7/dist-packages (from -r requirements.txt (line 12)) (1.17.5)\n",
            "Requirement already satisfied: oauthlib~=3.1.0 in /usr/local/lib/python3.7/dist-packages (from -r requirements.txt (line 13)) (3.1.1)\n",
            "Requirement already satisfied: Pillow~=6.1.0 in /usr/local/lib/python3.7/dist-packages (from -r requirements.txt (line 14)) (6.1.0)\n",
            "Requirement already satisfied: protobuf~=3.11.3 in /usr/local/lib/python3.7/dist-packages (from -r requirements.txt (line 15)) (3.11.3)\n",
            "Requirement already satisfied: pyasn1~=0.4.8 in /usr/local/lib/python3.7/dist-packages (from -r requirements.txt (line 16)) (0.4.8)\n",
            "Requirement already satisfied: pyasn1-modules~=0.2.8 in /usr/local/lib/python3.7/dist-packages (from -r requirements.txt (line 17)) (0.2.8)\n",
            "Requirement already satisfied: quadprog~=0.1.7 in /usr/local/lib/python3.7/dist-packages (from -r requirements.txt (line 18)) (0.1.11)\n",
            "Requirement already satisfied: requests~=2.22.0 in /usr/local/lib/python3.7/dist-packages (from -r requirements.txt (line 19)) (2.22.0)\n",
            "Requirement already satisfied: requests-oauthlib~=1.3.0 in /usr/local/lib/python3.7/dist-packages (from -r requirements.txt (line 20)) (1.3.1)\n",
            "Requirement already satisfied: rsa~=4.0 in /usr/local/lib/python3.7/dist-packages (from -r requirements.txt (line 21)) (4.0)\n",
            "Requirement already satisfied: six~=1.14.0 in /usr/local/lib/python3.7/dist-packages (from -r requirements.txt (line 22)) (1.14.0)\n",
            "Requirement already satisfied: tensorboard~=2.0.1 in /usr/local/lib/python3.7/dist-packages (from -r requirements.txt (line 23)) (2.0.2)\n",
            "Requirement already satisfied: torch~=1.3.1 in /usr/local/lib/python3.7/dist-packages (from -r requirements.txt (line 24)) (1.3.1)\n",
            "Requirement already satisfied: torchvision~=0.4.2 in /usr/local/lib/python3.7/dist-packages (from -r requirements.txt (line 25)) (0.4.2)\n",
            "Requirement already satisfied: urllib3~=1.25.8 in /usr/local/lib/python3.7/dist-packages (from -r requirements.txt (line 26)) (1.25.11)\n",
            "Requirement already satisfied: Werkzeug~=1.0.0 in /usr/local/lib/python3.7/dist-packages (from -r requirements.txt (line 27)) (1.0.1)\n",
            "Requirement already satisfied: setuptools>=40.3.0 in /usr/local/lib/python3.7/dist-packages (from google-auth~=1.11.2->-r requirements.txt (line 6)) (57.4.0)\n",
            "Requirement already satisfied: importlib-metadata in /usr/local/lib/python3.7/dist-packages (from Markdown~=3.2.1->-r requirements.txt (line 11)) (4.11.3)\n",
            "Requirement already satisfied: wheel>=0.26 in /usr/local/lib/python3.7/dist-packages (from tensorboard~=2.0.1->-r requirements.txt (line 23)) (0.37.1)\n",
            "Requirement already satisfied: typing-extensions>=3.6.4 in /usr/local/lib/python3.7/dist-packages (from importlib-metadata->Markdown~=3.2.1->-r requirements.txt (line 11)) (3.10.0.2)\n",
            "Requirement already satisfied: zipp>=0.5 in /usr/local/lib/python3.7/dist-packages (from importlib-metadata->Markdown~=3.2.1->-r requirements.txt (line 11)) (3.7.0)\n"
          ]
        }
      ]
    },
    {
      "cell_type": "markdown",
      "source": [
        "## Run model"
      ],
      "metadata": {
        "id": "SDmsrvDG2GDt"
      }
    },
    {
      "cell_type": "code",
      "source": [
        "import os\n",
        "import pathlib\n",
        "\n",
        "os.environ['HOME_PATH'] = str(pathlib.Path().resolve())"
      ],
      "metadata": {
        "id": "CHeMC44m-BkH"
      },
      "execution_count": null,
      "outputs": []
    },
    {
      "cell_type": "code",
      "source": [
        "!python main.py \\\n",
        "  --model agem \\\n",
        "  --dataset seq-mnist \\\n",
        "  --buffer_size 5120 \\\n",
        "  --load_best_args"
      ],
      "metadata": {
        "colab": {
          "base_uri": "https://localhost:8080/"
        },
        "id": "H12QPcvsn0bq",
        "outputId": "5f49fb69-3104-4347-809b-c61118ee6391"
      },
      "execution_count": null,
      "outputs": [
        {
          "output_type": "stream",
          "name": "stdout",
          "text": [
            "Namespace(batch_size=10, buffer_size=5120, csv_log=False, dataset='seq-mnist', load_best_args=True, lr=0.1, minibatch_size=128, model='agem', n_epochs=1, notes=None, seed=None, tensorboard=False, validation=False)\n",
            "\n",
            "[ 03-31 | 22:13 ] Task 1 | epoch 0: |████████████┈┈┈┈┈┈┈┈┈┈┈┈┈┈┈┈┈┈┈┈┈┈┈┈┈┈┈┈┈┈┈┈┈┈┈┈┈┈| loss: 9.904e-05"
          ]
        }
      ]
    }
  ]
}